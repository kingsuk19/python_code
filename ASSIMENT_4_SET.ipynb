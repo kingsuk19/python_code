{
 "cells": [
  {
   "cell_type": "code",
   "execution_count": 3,
   "id": "b6ec5e8c",
   "metadata": {},
   "outputs": [
    {
     "name": "stdout",
     "output_type": "stream",
     "text": [
      "Integer set is : {1, 2, 3, 4, 5}\n",
      "<class 'set'>\n"
     ]
    }
   ],
   "source": [
    "# Create a set with integers from 1 to 5.\n",
    "s = set(range(1,6))\n",
    "print(\"Integer set is :\",s)\n",
    "print(type(s))"
   ]
  },
  {
   "cell_type": "code",
   "execution_count": 6,
   "id": "77306390",
   "metadata": {},
   "outputs": [
    {
     "name": "stdout",
     "output_type": "stream",
     "text": [
      "The empty set is : set()\n",
      "Enter the element to a set :5\n",
      "{5}\n"
     ]
    }
   ],
   "source": [
    "# Add an element to a set.\n",
    "s = set()\n",
    "print(\"The empty set is :\",s)\n",
    "n = input(\"Enter the element to a set :\")\n",
    "if n.isdigit():\n",
    "    s.add(int(n))\n",
    "else:\n",
    "    s.add(n)\n",
    "print(s)"
   ]
  },
  {
   "cell_type": "code",
   "execution_count": 10,
   "id": "01426486",
   "metadata": {},
   "outputs": [
    {
     "name": "stdout",
     "output_type": "stream",
     "text": [
      "Enter the number of element:5\n",
      "Eneter the values:12\n",
      "Eneter the values:78\n",
      "Eneter the values:65\n",
      "Eneter the values:f\n",
      "Eneter the values:b\n",
      "{65, 'b', 12, 78, 'f'}\n",
      "enter the remove value :b\n",
      "After remove b : {65, 12, 78, 'f'}\n"
     ]
    }
   ],
   "source": [
    "# Remove an element from a set.\n",
    "n = int(input(\"Enter the number of element:\"))\n",
    "s = set()\n",
    "for x in range(n):\n",
    "    item = input(\"Eneter the values:\")\n",
    "    if item.isdigit():\n",
    "        s.add(int(item))\n",
    "    else:\n",
    "        s.add(item)\n",
    "print(s)\n",
    "remove = input(\"enter the remove value :\")\n",
    "s.remove(remove)\n",
    "print(F\"After remove {remove} :\",s)"
   ]
  },
  {
   "cell_type": "code",
   "execution_count": 1,
   "id": "6096faf4",
   "metadata": {},
   "outputs": [
    {
     "name": "stdout",
     "output_type": "stream",
     "text": [
      "Enter the number of element:5\n",
      "Eneter the values:42\n",
      "Eneter the values:79\n",
      "Eneter the values:331\n",
      "Eneter the values:56\n",
      "Eneter the values:9\n",
      "{9, 42, 331, 79, 56}\n",
      "enter the value :331\n",
      "331 is  present in set.\n"
     ]
    }
   ],
   "source": [
    "# Check if an element exists in a set.\n",
    "n = int(input(\"Enter the number of element:\"))\n",
    "s = set()\n",
    "for x in range(n):\n",
    "    item = input(\"Eneter the values:\")\n",
    "    if item.isdigit():\n",
    "        s.add(int(item))\n",
    "    else:\n",
    "        s.add(item)\n",
    "print(s)\n",
    "item1 = (input(\"enter the value :\"))\n",
    "if item1.isdigit():\n",
    "    item1 = int(item1)\n",
    "if item1 in s:\n",
    "    print(f\"{item1} is  present in set.\")\n",
    "else:\n",
    "    print(f\"{item1} is not  present in set!\")"
   ]
  },
  {
   "cell_type": "code",
   "execution_count": 2,
   "id": "be971648",
   "metadata": {},
   "outputs": [
    {
     "name": "stdout",
     "output_type": "stream",
     "text": [
      "Enter the number of element:5\n",
      "Eneter the values:16\n",
      "Eneter the values:54\n",
      "Eneter the values:96\n",
      "Eneter the values:79\n",
      "Eneter the values:21\n",
      "{96, 79, 16, 21, 54}\n",
      "The length of a set with out len() function : 5\n"
     ]
    }
   ],
   "source": [
    "# Find the length of a set without using the `len()` function.\n",
    "n = int(input(\"Enter the number of element:\"))\n",
    "s = set()\n",
    "for x in range(n):\n",
    "    item = input(\"Eneter the values:\")\n",
    "    if item.isdigit():\n",
    "        s.add(int(item))\n",
    "    else:\n",
    "        s.add(item)\n",
    "print(s)\n",
    "count = 0\n",
    "for _ in s:\n",
    "    count += 1\n",
    "print(\"The length of a set with out len() function :\",count)"
   ]
  },
  {
   "cell_type": "code",
   "execution_count": 4,
   "id": "18a31f18",
   "metadata": {},
   "outputs": [
    {
     "name": "stdout",
     "output_type": "stream",
     "text": [
      "Enter the number of element:5\n",
      "Eneter the values:78\n",
      "Eneter the values:31\n",
      "Eneter the values:96\n",
      "Eneter the values:12\n",
      "Eneter the values:96\n",
      "{96, 12, 78, 31}\n",
      "Set after clearing: set()\n"
     ]
    }
   ],
   "source": [
    "# Clear all elements from a set.\n",
    "n = int(input(\"Enter the number of element:\"))\n",
    "s = set()\n",
    "for x in range(n):\n",
    "    item = input(\"Eneter the values:\")\n",
    "    if item.isdigit():\n",
    "        s.add(int(item))\n",
    "    else:\n",
    "        s.add(item)\n",
    "print(s)\n",
    "s.clear()\n",
    "print(\"Set after clearing:\",s)"
   ]
  },
  {
   "cell_type": "code",
   "execution_count": 4,
   "id": "c269991a",
   "metadata": {},
   "outputs": [
    {
     "name": "stdout",
     "output_type": "stream",
     "text": [
      "{2, 4, 6, 8, 10}\n"
     ]
    }
   ],
   "source": [
    "# Create a set of even numbers from 1 to 10.\n",
    "even_number = set(x for x in  range(2,11,2))\n",
    "print(even_number)"
   ]
  },
  {
   "cell_type": "code",
   "execution_count": 10,
   "id": "733d0038",
   "metadata": {},
   "outputs": [
    {
     "name": "stdout",
     "output_type": "stream",
     "text": [
      "{2, 4, 6, 8, 10}\n"
     ]
    }
   ],
   "source": [
    "# Create a set of even numbers from 1 to 10.\n",
    "even_num = set(x for x in range(1,11) if x%2 == 0)\n",
    "print(even_num)"
   ]
  },
  {
   "cell_type": "code",
   "execution_count": 8,
   "id": "ff251184",
   "metadata": {},
   "outputs": [
    {
     "name": "stdout",
     "output_type": "stream",
     "text": [
      "{1, 3, 5, 7, 9}\n"
     ]
    }
   ],
   "source": [
    "# Create a set of odd numbers from 1 to 10.\n",
    "odd_number = set(x for x in range(1,11,2))\n",
    "print(odd_number)"
   ]
  },
  {
   "cell_type": "code",
   "execution_count": 12,
   "id": "9eed6491",
   "metadata": {},
   "outputs": [
    {
     "name": "stdout",
     "output_type": "stream",
     "text": [
      "Enter the set no.1 :{1,2,3,8,9}\n",
      "Enter the set no.2 :{1,2,3,4,5,6,7}\n",
      "The union  of two set : {1, 2, 3, 4, 5, 6, 7, 8, 9}\n"
     ]
    }
   ],
   "source": [
    "# Find the union of two sets.\n",
    "set1 = eval(input(\"Enter the set no.1 :\"))\n",
    "set2 = eval(input(\"Enter the set no.2 :\"))\n",
    "final_set = set1.union(set2)\n",
    "print(\"The union  of two set :\",final_set)"
   ]
  },
  {
   "cell_type": "code",
   "execution_count": 16,
   "id": "aa12d77f",
   "metadata": {},
   "outputs": [
    {
     "name": "stdout",
     "output_type": "stream",
     "text": [
      "Enter the set no.1 :{2,4,6,8,10}\n",
      "Enter the set no.2 :{5,8,10,12,15}\n",
      "The intersection  of two set : {8, 10}\n"
     ]
    }
   ],
   "source": [
    "# Find the intersection of two sets.\n",
    "set1 = eval(input(\"Enter the set no.1 :\"))\n",
    "set2 = eval(input(\"Enter the set no.2 :\"))\n",
    "final_set = set1.intersection(set2)\n",
    "print(\"The intersection  of two set :\",final_set)"
   ]
  },
  {
   "cell_type": "code",
   "execution_count": 19,
   "id": "0bc85219",
   "metadata": {},
   "outputs": [
    {
     "name": "stdout",
     "output_type": "stream",
     "text": [
      "Enter the set no.1 :{2,4,6,8,10}\n",
      "Enter the set no.2 :{5,8,10,12,15}\n",
      "The difference of two set : {2, 4, 5, 6, 12, 15}\n"
     ]
    }
   ],
   "source": [
    "# Find the difference between two sets.\n",
    "set1 = eval(input(\"Enter the set no.1 :\"))\n",
    "set2 = eval(input(\"Enter the set no.2 :\"))\n",
    "final_set1 = set1 - set2\n",
    "final_set2 = set2 - set1\n",
    "final_set = final_set1.union(final_set2)\n",
    "print(\"The difference of two set :\",final_set)"
   ]
  },
  {
   "cell_type": "code",
   "execution_count": 22,
   "id": "41809c9b",
   "metadata": {},
   "outputs": [
    {
     "name": "stdout",
     "output_type": "stream",
     "text": [
      "Enter the set no.1 :{2,4,6,8,10}\n",
      "Enter the set no.2 :{4,6}\n",
      "Second set is subset of first set\n"
     ]
    }
   ],
   "source": [
    "# Check if a set is a subset of another set.\n",
    "set1 = eval(input(\"Enter the set no.1 :\"))\n",
    "set2 = eval(input(\"Enter the set no.2 :\"))\n",
    "if set1.issubset(set2) :\n",
    "    print(\"First set is subset of second set\")\n",
    "elif set2.issubset(set1):\n",
    "    print(\"Second set is subset of first set\")\n",
    "else:\n",
    "    print(\"No subset each other!\")"
   ]
  },
  {
   "cell_type": "code",
   "execution_count": 23,
   "id": "4c2da1f7",
   "metadata": {},
   "outputs": [
    {
     "name": "stdout",
     "output_type": "stream",
     "text": [
      "Enter the set no.1 :{2,4,6,8,10}\n",
      "Enter the set no.2 :{4,6}\n",
      "First set is superset of second set\n"
     ]
    }
   ],
   "source": [
    "# Check if a set is a superset of another set.\n",
    "set1 = eval(input(\"Enter the set no.1 :\"))\n",
    "set2 = eval(input(\"Enter the set no.2 :\"))\n",
    "if set1.issuperset(set2) :\n",
    "    print(\"First set is superset of second set\")\n",
    "elif set2.issuperset(set1):\n",
    "    print(\"Second set is superset of first set\")\n",
    "else:\n",
    "    print(\"No super each other!\")"
   ]
  },
  {
   "cell_type": "code",
   "execution_count": 24,
   "id": "0a3a8b27",
   "metadata": {},
   "outputs": [
    {
     "name": "stdout",
     "output_type": "stream",
     "text": [
      "Enter the data in list form :[2,4,6,8,10]\n",
      "list is: [2, 4, 6, 8, 10]\n",
      "convert into set : {2, 4, 6, 8, 10}\n"
     ]
    }
   ],
   "source": [
    "# Create a set from a list.\n",
    "l = eval(input(\"Enter the data in list form :\"))\n",
    "print(\"list is:\",l)\n",
    "l = set(l)\n",
    "print(\"convert into set :\",l)"
   ]
  },
  {
   "cell_type": "code",
   "execution_count": 25,
   "id": "da656e06",
   "metadata": {},
   "outputs": [
    {
     "name": "stdout",
     "output_type": "stream",
     "text": [
      "Enter the data in set form :{2,4,6,8,10}\n",
      "set is: {2, 4, 6, 8, 10}\n",
      "convert into list : [2, 4, 6, 8, 10]\n"
     ]
    }
   ],
   "source": [
    "# Convert a set to a list.\n",
    "l = eval(input(\"Enter the data in set form :\"))\n",
    "print(\"set is:\",l)\n",
    "l = list(l)\n",
    "print(\"convert into list :\",l)"
   ]
  },
  {
   "cell_type": "code",
   "execution_count": 26,
   "id": "6327796b",
   "metadata": {},
   "outputs": [
    {
     "name": "stdout",
     "output_type": "stream",
     "text": [
      "Enter the data in set form :{2,4,6,8,10}\n",
      "Removed element : 2\n",
      "Update set : {4, 6, 8, 10}\n"
     ]
    }
   ],
   "source": [
    "# Remove a random element from a set.\n",
    "s = eval(input(\"Enter the data in set form :\"))\n",
    "print(\"Removed element :\",s.pop())\n",
    "print(\"Update set :\",s)"
   ]
  },
  {
   "cell_type": "code",
   "execution_count": 28,
   "id": "dd979dab",
   "metadata": {},
   "outputs": [
    {
     "name": "stdout",
     "output_type": "stream",
     "text": [
      "Enter the set no.1 :{3, 5, 7, 9, 11}\n",
      "Enter the set no.2 :{2, 4, 6, 8, 10}\n",
      "The sets have no elements in common.\n"
     ]
    }
   ],
   "source": [
    "# Check if two sets have no elements in common.\n",
    "set1 = eval(input(\"Enter the set no.1 :\"))\n",
    "set2 = eval(input(\"Enter the set no.2 :\"))\n",
    "final_set = set1 & set2\n",
    "if final_set == set():\n",
    "     print(\"The sets have no elements in common.\")\n",
    "else:\n",
    "    print(\"The sets have some elements in common.\",final_set)"
   ]
  },
  {
   "cell_type": "code",
   "execution_count": 3,
   "id": "def37d9e",
   "metadata": {},
   "outputs": [
    {
     "name": "stdout",
     "output_type": "stream",
     "text": [
      "Enter the first set :{1,2,3,4,5}\n",
      "Enter the second set :{4,5,6,7,8}\n",
      "Before the set union : {1, 2, 3, 4, 5, 6, 7, 8}\n",
      "After the set intersection: {4, 5}\n",
      "After the set symmetric_difference : {1, 2, 3, 6, 7, 8}\n"
     ]
    }
   ],
   "source": [
    "# Find the symmetric difference between two sets.\n",
    "# (A U B) - (A ^ B) implement this rule.\n",
    "set1 = eval(input(\"Enter the first set :\"))\n",
    "set2 = eval(input(\"Enter the second set :\"))\n",
    "final_set1 = set1.union(set2)\n",
    "final_set2 = set1.intersection(set2)\n",
    "final_set = final_set1 - final_set2\n",
    "print(\"Before the set union :\",final_set1)\n",
    "print(\"After the set intersection:\",final_set2)\n",
    "print(\"After the set symmetric_difference :\",final_set)"
   ]
  },
  {
   "cell_type": "code",
   "execution_count": 4,
   "id": "13cf3e1c",
   "metadata": {},
   "outputs": [
    {
     "name": "stdout",
     "output_type": "stream",
     "text": [
      "Enter the first set :{1,2,3,4,5}\n",
      "Enter the second set :{4,5,6,7,8}\n",
      "The symmetric difference is :  {1, 2, 3, 6, 7, 8}\n"
     ]
    }
   ],
   "source": [
    "# Find the symmetric difference between two sets.\n",
    "set1 = eval(input(\"Enter the first set :\"))\n",
    "set2 = eval(input(\"Enter the second set :\"))\n",
    "symmetric_diff = set1.symmetric_difference(set2)\n",
    "print(\"The symmetric difference is : \",symmetric_diff)"
   ]
  },
  {
   "cell_type": "code",
   "execution_count": 7,
   "id": "ec364c95",
   "metadata": {},
   "outputs": [
    {
     "name": "stdout",
     "output_type": "stream",
     "text": [
      "Enter the first set :{1,2,3,4,5}\n",
      "Enter the second set :{4,5,6,7,8}\n",
      "Update set : {1, 2, 3, 4, 5, 6, 7, 8}\n"
     ]
    }
   ],
   "source": [
    "# Update a set with elements from another set.\n",
    "set1 = eval(input(\"Enter the first set :\"))\n",
    "set2 = eval(input(\"Enter the second set :\"))\n",
    "set1.update(set2)\n",
    "print(\"Update set :\",set1)"
   ]
  },
  {
   "cell_type": "code",
   "execution_count": 2,
   "id": "f239de01",
   "metadata": {},
   "outputs": [
    {
     "name": "stdout",
     "output_type": "stream",
     "text": [
      "{2, 3, 5, 7, 11}\n"
     ]
    }
   ],
   "source": [
    "# Create a set of the first 5 prime numbers.\n",
    "import math as m\n",
    "s = set()\n",
    "num = 2\n",
    "while (len(s) < 5):\n",
    "    c = 1\n",
    "    for i in range(2,int(m.sqrt(num)+1)):\n",
    "        if num%i == 0:\n",
    "            c = 0\n",
    "            break\n",
    "    if(c):\n",
    "        s.add(num)\n",
    "    num += 1\n",
    "print(s)"
   ]
  },
  {
   "cell_type": "code",
   "execution_count": 6,
   "id": "4c064b4e",
   "metadata": {},
   "outputs": [
    {
     "name": "stdout",
     "output_type": "stream",
     "text": [
      "Enter the first set :{1,2,3,4,5}\n",
      "Enter the second set :{5,4,3,2,1}\n",
      "the set are identical. \n"
     ]
    }
   ],
   "source": [
    "# Check if two sets are identical.\n",
    "set1 = eval(input(\"Enter the first set :\"))\n",
    "set2 = eval(input(\"Enter the second set :\"))\n",
    "if (set1 == set2):\n",
    "    print(\"the set are identical. \")\n",
    "else:\n",
    "    print(\"The set are not identical .\")"
   ]
  },
  {
   "cell_type": "code",
   "execution_count": 11,
   "id": "0628e94f",
   "metadata": {},
   "outputs": [
    {
     "name": "stdout",
     "output_type": "stream",
     "text": [
      "Enter the set :{1,2,3,4,5}\n",
      "<class 'set'>\n",
      "frozenset({1, 2, 3, 4, 5})\n",
      "<class 'frozenset'>\n"
     ]
    }
   ],
   "source": [
    "# Create a frozen set.\n",
    "my_set = eval(input(\"Enter the set :\"))\n",
    "print(type(my_set))\n",
    "my_set = frozenset(my_set)\n",
    "print(my_set)\n",
    "print(type(my_set))"
   ]
  },
  {
   "cell_type": "code",
   "execution_count": 5,
   "id": "9331efea",
   "metadata": {},
   "outputs": [
    {
     "name": "stdout",
     "output_type": "stream",
     "text": [
      "Enter the first set :{1,2,3,4}\n",
      "Enter the second set :{5,6,7}\n",
      "set1 distjoint set2\n"
     ]
    }
   ],
   "source": [
    "# Check if a set is disjoint with another set.\n",
    "set1 = eval(input(\"Enter the first set :\"))\n",
    "set2 = eval(input(\"Enter the second set :\"))\n",
    "if (set1.isdisjoint(set2)):\n",
    "    print(\"set1 distjoint set2\")\n",
    "else:\n",
    "    print(\"set1 , set2  are not disjoint\")"
   ]
  },
  {
   "cell_type": "code",
   "execution_count": 12,
   "id": "0fb31183",
   "metadata": {},
   "outputs": [
    {
     "name": "stdout",
     "output_type": "stream",
     "text": [
      "{1, 4, 9, 16, 25}\n"
     ]
    }
   ],
   "source": [
    "# Create a set of squares of numbers from 1 to 5.\n",
    "square_set = set(x*x for x in range(1,6))\n",
    "print(square_set)"
   ]
  },
  {
   "cell_type": "code",
   "execution_count": 18,
   "id": "7595fca5",
   "metadata": {},
   "outputs": [
    {
     "name": "stdout",
     "output_type": "stream",
     "text": [
      "Enter the data with set from :{1,2,3,4,5,6,7,8}\n",
      "{8, 2, 4, 6}\n"
     ]
    }
   ],
   "source": [
    "# Filter out all even numbers from a set.\n",
    "set1 = eval(input(\"Enter the data with set from :\"))\n",
    "set2 = set()\n",
    "for i in set1:\n",
    "    if i%2 == 0:\n",
    "        set2.add(i)\n",
    "print(set2)"
   ]
  },
  {
   "cell_type": "code",
   "execution_count": 22,
   "id": "608b5a0d",
   "metadata": {},
   "outputs": [
    {
     "name": "stdout",
     "output_type": "stream",
     "text": [
      "Enter the element of a set :{1,2,3,4,5,6,7,8,9}\n",
      "{2, 4, 6, 8, 10, 12, 14, 16, 18}\n"
     ]
    }
   ],
   "source": [
    "# Multiply all elements in a set by 2.\n",
    "set1 = eval(input(\"Enter the element of a set :\"))\n",
    "multiply = set(x*2 for x in set1)\n",
    "print(multiply)"
   ]
  },
  {
   "cell_type": "code",
   "execution_count": 23,
   "id": "1bda8144",
   "metadata": {},
   "outputs": [
    {
     "name": "stdout",
     "output_type": "stream",
     "text": [
      "Random set : {1, 4, 8, 9, 10}\n"
     ]
    }
   ],
   "source": [
    "# Create a set of random numbers.\n",
    "import random\n",
    "random_set = {random.randint(1,10) for _ in range(5)}\n",
    "print(\"Random set :\",random_set)"
   ]
  },
  {
   "cell_type": "code",
   "execution_count": 29,
   "id": "0ceff6d5",
   "metadata": {},
   "outputs": [
    {
     "name": "stdout",
     "output_type": "stream",
     "text": [
      "Enter the element :set()\n",
      "The set is empty!\n"
     ]
    }
   ],
   "source": [
    "# Check if a set is empty.\n",
    "set1 = eval(input(\"Enter the element :\"))\n",
    "if not set1:\n",
    "    print(\"The set is empty!\")\n",
    "else:\n",
    "    print(\"The set is not empty.\")"
   ]
  },
  {
   "cell_type": "code",
   "execution_count": 34,
   "id": "2d71ca80",
   "metadata": {},
   "outputs": [
    {
     "name": "stdout",
     "output_type": "stream",
     "text": [
      "Enter the data :{1,2,3,4,5}\n",
      "{1, 2, 3, 4, 5}\n",
      "Enter remove element :4\n",
      "{1, 2, 3, 5}\n"
     ]
    }
   ],
   "source": [
    "# Remove an element from a set using the discard method.\n",
    "set_A = eval(input(\"Enter the data :\"))\n",
    "print(set_A)\n",
    "n = (input(\"Enter remove element :\"))\n",
    "if n.isdigit():\n",
    "    n = int(n)\n",
    "set_A.discard(n)\n",
    "print(set_A)"
   ]
  },
  {
   "cell_type": "code",
   "execution_count": 35,
   "id": "df83bd93",
   "metadata": {},
   "outputs": [
    {
     "name": "stdout",
     "output_type": "stream",
     "text": [
      "Enter the first set :{1,2,3}\n",
      "Enter the second set :{3,1,2}\n",
      "The set are equal.\n"
     ]
    }
   ],
   "source": [
    "# Compare two sets.\n",
    "set1 = eval(input(\"Enter the first set :\"))\n",
    "set2 = eval(input(\"Enter the second set :\"))\n",
    "if set1 == set2:\n",
    "    print(\"The set are equal.\")\n",
    "else:\n",
    "    print(\"The set are not equal.\")"
   ]
  },
  {
   "cell_type": "code",
   "execution_count": 1,
   "id": "d123b6d2",
   "metadata": {},
   "outputs": [
    {
     "name": "stdout",
     "output_type": "stream",
     "text": [
      "Enter the first set :hello world\n",
      "{'d', 'r', 'h', ' ', 'e', 'o', 'l', 'w'}\n"
     ]
    }
   ],
   "source": [
    "# Create a set from a string.\n",
    "string = (input(\"Enter the first set :\"))\n",
    "s = set(string)\n",
    "print(s)"
   ]
  },
  {
   "cell_type": "code",
   "execution_count": 3,
   "id": "16f0e331",
   "metadata": {},
   "outputs": [
    {
     "name": "stdout",
     "output_type": "stream",
     "text": [
      "Enter the data with set from :{1,2,3,'python'}\n",
      "input set : {1, 2, 3, 'python'}\n",
      "output set : {112, 1, 2, 3}\n"
     ]
    }
   ],
   "source": [
    "# Convert a set of strings to a set of integers.\n",
    "set1 = eval(input(\"Enter the data with set from :\"))\n",
    "set2 = set()\n",
    "for i in set1:\n",
    "    if type(i) == type(str()):\n",
    "        set2.add(ord(i[0]))\n",
    "    else:\n",
    "        set2.add(i)\n",
    "print(\"input set :\",set1)\n",
    "print(\"output set :\",set2)"
   ]
  },
  {
   "cell_type": "code",
   "execution_count": 4,
   "id": "572a3a08",
   "metadata": {},
   "outputs": [
    {
     "name": "stdout",
     "output_type": "stream",
     "text": [
      "Enter the data with set from :{1,2,3,4,5,6,7,8,9,0}\n",
      "input set : {0, 1, 2, 3, 4, 5, 6, 7, 8, 9}\n",
      "output set : {'\\x02', '\\x05', '\\x08', '\\x00', '\\t', '\\x07', '\\x04', '\\x01', '\\x03', '\\x06'}\n"
     ]
    }
   ],
   "source": [
    "# Convert a set of integers to a set of strings.\n",
    "set1 = eval(input(\"Enter the data with set from :\"))\n",
    "set2 = set()\n",
    "for i in set1:\n",
    "    set2.add(chr(i))\n",
    "print(\"input set :\",set1)\n",
    "print(\"output set :\",set2)"
   ]
  },
  {
   "cell_type": "code",
   "execution_count": 5,
   "id": "debf8c1a",
   "metadata": {},
   "outputs": [
    {
     "name": "stdout",
     "output_type": "stream",
     "text": [
      "Enter the data with set from :{1,2,3,4,5,6}\n",
      "Maximum elemenr : 6\n"
     ]
    }
   ],
   "source": [
    "# Find the maximum value in a set.\n",
    "set1 = eval(input(\"Enter the data with set from :\"))\n",
    "set2 = set()\n",
    "for i in set1:\n",
    "    if type(i) != type(str()):\n",
    "        set2.add(i)\n",
    "print(\"Maximum elemenr :\",max(set2))"
   ]
  },
  {
   "cell_type": "code",
   "execution_count": 6,
   "id": "98ad736b",
   "metadata": {},
   "outputs": [
    {
     "name": "stdout",
     "output_type": "stream",
     "text": [
      "Enter the data with set from :{1,2,3,4,0}\n",
      "Minimum elemenr : 0\n"
     ]
    }
   ],
   "source": [
    "# Find the minimum value in a set.\n",
    "set1 = eval(input(\"Enter the data with set from :\"))\n",
    "set2 = set()\n",
    "for i in set1:\n",
    "    if type(i) != type(str()):\n",
    "        set2.add(i)\n",
    "print(\"Minimum elemenr :\",min(set2))"
   ]
  },
  {
   "cell_type": "code",
   "execution_count": null,
   "id": "40d049e6",
   "metadata": {},
   "outputs": [],
   "source": []
  }
 ],
 "metadata": {
  "kernelspec": {
   "display_name": "Python 3 (ipykernel)",
   "language": "python",
   "name": "python3"
  },
  "language_info": {
   "codemirror_mode": {
    "name": "ipython",
    "version": 3
   },
   "file_extension": ".py",
   "mimetype": "text/x-python",
   "name": "python",
   "nbconvert_exporter": "python",
   "pygments_lexer": "ipython3",
   "version": "3.11.4"
  }
 },
 "nbformat": 4,
 "nbformat_minor": 5
}
