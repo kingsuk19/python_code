{
 "cells": [
  {
   "cell_type": "code",
   "execution_count": 1,
   "id": "9b3c1487",
   "metadata": {},
   "outputs": [
    {
     "name": "stdout",
     "output_type": "stream",
     "text": [
      "<class 'list'>\n",
      "[1, 2, 3, 4, 5]\n"
     ]
    }
   ],
   "source": [
    "# Create a list with integers from 1 to 10.\n",
    "l = [1,2,3,4,5]\n",
    "print(type(l))\n",
    "print(l)"
   ]
  },
  {
   "cell_type": "code",
   "execution_count": 2,
   "id": "7e5742df",
   "metadata": {},
   "outputs": [
    {
     "name": "stdout",
     "output_type": "stream",
     "text": [
      "Length of the list : 5\n"
     ]
    }
   ],
   "source": [
    "# Find the length of a list without using the `len()` function.\n",
    "l = [1,2,3,4,5]\n",
    "length = 0\n",
    "for _ in l:\n",
    "    length += 1\n",
    "print(\"Length of the list :\", length)"
   ]
  },
  {
   "cell_type": "code",
   "execution_count": 3,
   "id": "c5f04709",
   "metadata": {},
   "outputs": [
    {
     "name": "stdout",
     "output_type": "stream",
     "text": [
      "[1, 2, 3, 4, 5]\n",
      "Enter the element : 6\n",
      "[1, 2, 3, 4, 5, '6']\n"
     ]
    }
   ],
   "source": [
    "# Append an element to the end of a list.\n",
    "l = [1,2,3,4,5]\n",
    "print(l)\n",
    "n = input(\"Enter the element : \")\n",
    "l.append(n)\n",
    "print(l)"
   ]
  },
  {
   "cell_type": "code",
   "execution_count": 6,
   "id": "82f43030",
   "metadata": {},
   "outputs": [
    {
     "name": "stdout",
     "output_type": "stream",
     "text": [
      "[1, 2, 3, 4, 5]\n",
      "Enter the position of index :2\n",
      "Enter the element : 10\n",
      "Update list are :  [1, 2, 10, 3, 4, 5]\n"
     ]
    }
   ],
   "source": [
    "# Insert an element at a specific index in a list.\n",
    "l = [1,2,3,4,5]\n",
    "print(l)\n",
    "n = int(input(\"Enter the position of index :\"))\n",
    "m = int(input(\"Enter the element : \"))\n",
    "l.insert(n, m)\n",
    "print(\"Update list are : \",l)"
   ]
  },
  {
   "cell_type": "code",
   "execution_count": 9,
   "id": "d6834bb7",
   "metadata": {},
   "outputs": [
    {
     "name": "stdout",
     "output_type": "stream",
     "text": [
      "[1, 2, 3, 4, 5]\n",
      "Enter the element : 3\n",
      "[1, 2, 4, 5]\n"
     ]
    }
   ],
   "source": [
    "# Remove an element from a list by its value.\n",
    "l = [1,2,3,4,5]\n",
    "print(l)\n",
    "m = int(input(\"Enter the element : \"))\n",
    "l.remove(m)\n",
    "print(l)"
   ]
  },
  {
   "cell_type": "code",
   "execution_count": 12,
   "id": "ea088cb1",
   "metadata": {},
   "outputs": [
    {
     "name": "stdout",
     "output_type": "stream",
     "text": [
      "[1, 2, 3, 4, 5, 6, 7, 8, 9]\n",
      "Enter the possition : 4\n",
      "[1, 2, 3, 4, 6, 7, 8, 9]\n"
     ]
    }
   ],
   "source": [
    "# Remove an element from a list by its index.\n",
    "l = [1,2,3,4,5,6,7,8,9]\n",
    "print(l)\n",
    "n = int(input(\"Enter the possition : \"))\n",
    "l.pop(n)\n",
    "print(l)"
   ]
  },
  {
   "cell_type": "code",
   "execution_count": 15,
   "id": "a5aec1fd",
   "metadata": {},
   "outputs": [
    {
     "name": "stdout",
     "output_type": "stream",
     "text": [
      "The ist is :  [1, 2, 3, 4, 5, 6, 7, 8, 9, 0]\n",
      "Enter the element which you check : 10\n",
      "10 is does not presnt in list .\n"
     ]
    }
   ],
   "source": [
    "# Check if an element exists in a list.\n",
    "my_list = [1,2,3,4,5,6,7,8,9,0]\n",
    "print(\"The ist is : \",my_list)\n",
    "n = int(input(\"Enter the element which you check : \"))\n",
    "if n in my_list:\n",
    "    print(f\"{n} exixts in the list .\")\n",
    "else:\n",
    "    print(f\"{n} is does not presnt in list .\")"
   ]
  },
  {
   "cell_type": "code",
   "execution_count": 19,
   "id": "d85ed570",
   "metadata": {},
   "outputs": [
    {
     "name": "stdout",
     "output_type": "stream",
     "text": [
      "[1, 2, 3, 3, 4, 5, 6, 7, 8, 9, 0, 1, 7]\n",
      "Enter the element :7\n",
      "The index of 7 is : 7\n"
     ]
    }
   ],
   "source": [
    "# Find the index of the first occurrence of an element in a list.\n",
    "l = [1,2,3,3,4,5,6,7,8,9,0,1,7]\n",
    "print(l)\n",
    "n = int(input(\"Enter the element :\"))\n",
    "try:\n",
    "    index = l.index(n)\n",
    "    print(f\"The index of {n} is : {index}\")\n",
    "except :\n",
    "    print(f\"{n} is not in list .\")"
   ]
  },
  {
   "cell_type": "code",
   "execution_count": 22,
   "id": "b21f5b4f",
   "metadata": {},
   "outputs": [
    {
     "name": "stdout",
     "output_type": "stream",
     "text": [
      "[1, 2, 3, 3, 4, 5, 6, 7, 8, 9, 0, 1, 7]\n",
      "Enter the element :7\n",
      "7 is occurrences -: 2 :- time .\n"
     ]
    }
   ],
   "source": [
    "# Count the occurrences of an element in a list.\n",
    "l = [1,2,3,3,4,5,6,7,8,9,0,1,7]\n",
    "print(l)\n",
    "n = int(input(\"Enter the element :\"))\n",
    "count = 0\n",
    "for x in l:\n",
    "    if(x == n):\n",
    "        count += 1\n",
    "        \n",
    "print(f\"{n} is occurrences -: {count} :- time .\")"
   ]
  },
  {
   "cell_type": "code",
   "execution_count": 24,
   "id": "016da7c2",
   "metadata": {},
   "outputs": [
    {
     "name": "stdout",
     "output_type": "stream",
     "text": [
      "[1, 2, 3, 3, 4, 5, 6, 7, 8, 9, 0, 1, 7]\n",
      "Enter the element :7\n",
      "The element 7 occurs 2 times in the list.\n"
     ]
    }
   ],
   "source": [
    "# Count the occurrences of an element in a list.\n",
    "l = [1,2,3,3,4,5,6,7,8,9,0,1,7]\n",
    "print(l)\n",
    "n = int(input(\"Enter the element :\"))\n",
    "occurrence = l.count(n)\n",
    "print(f\"The element {n} occurs {occurrence} times in the list.\")"
   ]
  },
  {
   "cell_type": "code",
   "execution_count": 30,
   "id": "ef7dc303",
   "metadata": {},
   "outputs": [
    {
     "name": "stdout",
     "output_type": "stream",
     "text": [
      "Original list: [1, 2, 3, 3, 4, 5, 6, 7, 8, 9, 0, 1, 7]\n",
      "Reverse list: [7, 1, 0, 9, 8, 7, 6, 5, 4, 3, 3, 2, 1]\n"
     ]
    }
   ],
   "source": [
    "# Reverse the order of elements in a list.\n",
    "l = [1,2,3,3,4,5,6,7,8,9,0,1,7]\n",
    "print(\"Original list:\",l)\n",
    "l.reverse()\n",
    "print(\"Reverse list:\",l)"
   ]
  },
  {
   "cell_type": "code",
   "execution_count": 32,
   "id": "97f31e65",
   "metadata": {},
   "outputs": [
    {
     "name": "stdout",
     "output_type": "stream",
     "text": [
      "Original list: [1, 2, 3, 3, 4, 5, 6, 7, 8, 9, 0, 1, 7]\n",
      "Reverse list:  [7, 1, 0, 9, 8, 7, 6, 5, 4, 3, 3, 2, 1]\n"
     ]
    }
   ],
   "source": [
    "# Reverse the order of elements in a list.\n",
    "l = [1,2,3,3,4,5,6,7,8,9,0,1,7]\n",
    "print(\"Original list:\",l)\n",
    "print(\"Reverse list: \",l[::-1])"
   ]
  },
  {
   "cell_type": "code",
   "execution_count": 35,
   "id": "e1acb079",
   "metadata": {},
   "outputs": [
    {
     "name": "stdout",
     "output_type": "stream",
     "text": [
      "[3, 1, 4, 1, 5, 9, 2, 6, 5, 3, 5]\n",
      "Sorted list in ascending list :  [1, 1, 2, 3, 3, 4, 5, 5, 5, 6, 9]\n"
     ]
    }
   ],
   "source": [
    "# Sort a list in ascending order.\n",
    "my_list = [3, 1, 4, 1, 5, 9, 2, 6, 5, 3, 5]\n",
    "print(my_list)\n",
    "my_list.sort()\n",
    "print(\"Sorted list in ascending list : \",my_list)"
   ]
  },
  {
   "cell_type": "code",
   "execution_count": 36,
   "id": "016e6167",
   "metadata": {},
   "outputs": [
    {
     "name": "stdout",
     "output_type": "stream",
     "text": [
      "[3, 1, 4, 1, 5, 9, 2, 6, 5, 3, 5]\n",
      "Sorted list in ascending list :  [9, 6, 5, 5, 5, 4, 3, 3, 2, 1, 1]\n"
     ]
    }
   ],
   "source": [
    "# Sort a list in descending order.\n",
    "my_list = [3, 1, 4, 1, 5, 9, 2, 6, 5, 3, 5]\n",
    "print(my_list)\n",
    "my_list.sort(reverse = True)\n",
    "print(\"Sorted list in ascending list : \",my_list)"
   ]
  },
  {
   "cell_type": "code",
   "execution_count": 38,
   "id": "ae4863fb",
   "metadata": {},
   "outputs": [
    {
     "name": "stdout",
     "output_type": "stream",
     "text": [
      "List of even numbers from 1 to 20: [2, 4, 6, 8, 10, 12, 14, 16, 18, 20]\n"
     ]
    }
   ],
   "source": [
    "# Create a list of even numbers from 1 to 20.\n",
    "even_number = list(range(2,21,2))\n",
    "print(\"List of even numbers from 1 to 20:\", even_number)"
   ]
  },
  {
   "cell_type": "code",
   "execution_count": 7,
   "id": "97d39bd7",
   "metadata": {},
   "outputs": [
    {
     "name": "stdout",
     "output_type": "stream",
     "text": [
      "List of odd numbers from 1 to 20: [1, 3, 5, 7, 9, 11, 13, 15, 17, 19]\n"
     ]
    }
   ],
   "source": [
    "# Create a list of odd numbers from 1 to 20.\n",
    "odd_number = list(x for x in range(1,21) if x %2 != 0)\n",
    "print(\"List of odd numbers from 1 to 20:\", odd_number)"
   ]
  },
  {
   "cell_type": "code",
   "execution_count": 4,
   "id": "9b4e3f79",
   "metadata": {},
   "outputs": [
    {
     "name": "stdout",
     "output_type": "stream",
     "text": [
      "Enter the number of element : 5\n",
      "Enter the element : \n",
      "10\n",
      "15\n",
      "78\n",
      "60\n",
      "12\n",
      "The list is :  [10, 15, 78, 60, 12]\n",
      "sum of list : 175\n"
     ]
    }
   ],
   "source": [
    "# Find the sum of all elements in a list.\n",
    "n = int(input(\"Enter the number of element : \"))\n",
    "my_list = []\n",
    "\n",
    "print(\"Enter the element : \")\n",
    "for x in range(n):\n",
    "    m = int(input( ))\n",
    "    my_list.append(m)\n",
    "    \n",
    "print(\"The list is : \",my_list)\n",
    "sum_of_list =sum(my_list)\n",
    "print(\"sum of list :\",sum_of_list)"
   ]
  },
  {
   "cell_type": "code",
   "execution_count": 5,
   "id": "63d93b39",
   "metadata": {},
   "outputs": [
    {
     "name": "stdout",
     "output_type": "stream",
     "text": [
      "Enter the number of element : 5\n",
      "Enter the element : \n",
      "10\n",
      "15\n",
      "78\n",
      "60\n",
      "12\n",
      "The list is :  [10, 15, 78, 60, 12]\n",
      "The maximum in the list :  78\n"
     ]
    }
   ],
   "source": [
    "# Find the maximum value in a list.\n",
    "n = int(input(\"Enter the number of element : \"))\n",
    "my_list = []\n",
    "\n",
    "print(\"Enter the element : \")\n",
    "for x in range(n):\n",
    "    m = int(input( ))\n",
    "    my_list.append(m)\n",
    "    \n",
    "print(\"The list is : \",my_list)\n",
    "maximum = max(my_list)\n",
    "print(\"The maximum in the list : \",maximum)"
   ]
  },
  {
   "cell_type": "code",
   "execution_count": 6,
   "id": "8391ef75",
   "metadata": {},
   "outputs": [
    {
     "name": "stdout",
     "output_type": "stream",
     "text": [
      "Enter the number of element : 5\n",
      "Enter the element : \n",
      "10\n",
      "15\n",
      "78\n",
      "60\n",
      "12\n",
      "The list is :  [10, 15, 78, 60, 12]\n",
      "The maximum in the list :  10\n"
     ]
    }
   ],
   "source": [
    "# Find the minimum value in a list.\n",
    "n = int(input(\"Enter the number of element : \"))\n",
    "my_list = []\n",
    "\n",
    "print(\"Enter the element : \")\n",
    "for x in range(n):\n",
    "    m = int(input( ))\n",
    "    my_list.append(m)\n",
    "    \n",
    "print(\"The list is : \",my_list)\n",
    "minimum = min(my_list)\n",
    "print(\"The maximum in the list : \",minimum)"
   ]
  },
  {
   "cell_type": "code",
   "execution_count": 9,
   "id": "d4e743a1",
   "metadata": {},
   "outputs": [
    {
     "name": "stdout",
     "output_type": "stream",
     "text": [
      "[1, 4, 9, 16, 25, 36, 49, 64, 81, 100]\n"
     ]
    }
   ],
   "source": [
    "# Create a list of squares of numbers from 1 to 10.\n",
    "squares = []\n",
    "for x in range(1,11):\n",
    "    squares.append(x*x)\n",
    "    \n",
    "print(squares)"
   ]
  },
  {
   "cell_type": "code",
   "execution_count": 8,
   "id": "d43105dc",
   "metadata": {},
   "outputs": [
    {
     "name": "stdout",
     "output_type": "stream",
     "text": [
      "[1, 4, 9, 16, 25, 36, 49, 64, 81, 100]\n"
     ]
    }
   ],
   "source": [
    "# Create a list of squares of numbers from 1 to 10.\n",
    "squares = list(x*x for x in range(1,11))\n",
    "print(squares)"
   ]
  },
  {
   "cell_type": "code",
   "execution_count": 6,
   "id": "a60143ad",
   "metadata": {},
   "outputs": [
    {
     "name": "stdout",
     "output_type": "stream",
     "text": [
      "Enter the first range of element : 5\n",
      "Enter the last range of element : 20\n",
      "Enter the number of element : 8\n",
      "The random number list is :-  [8, 11, 15, 17, 5, 17, 10, 14, 10, 13]\n"
     ]
    }
   ],
   "source": [
    "# Create a list of random numbers.\n",
    "import random\n",
    "\n",
    "first_range =int( input(\"Enter the first range of element : \"))\n",
    "last_range =int( input(\"Enter the last range of element : \"))\n",
    "random_number = int(input(\"Enter the number of element : \"))\n",
    "random_number = [random.randint(first_range,last_range) for _ in range(10)]\n",
    "print(\"The random number list is :- \",random_number)"
   ]
  },
  {
   "cell_type": "code",
   "execution_count": 16,
   "id": "bc55d46b",
   "metadata": {},
   "outputs": [
    {
     "name": "stdout",
     "output_type": "stream",
     "text": [
      "Before removeing duplicates data :  [3, 1, 4, 1, 5, 9, 2, 6, 5, 3, 5]\n",
      "After removeing duplicates data :  [1, 2, 3, 4, 5, 6, 9]\n"
     ]
    }
   ],
   "source": [
    "# Remove duplicates from a list.\n",
    "my_list = [3, 1, 4, 1, 5, 9, 2, 6, 5, 3, 5]\n",
    "print(\"Before removeing duplicates data : \",my_list)\n",
    "duplicate = list(set(my_list))\n",
    "print(\"After removeing duplicates data : \",duplicate)"
   ]
  },
  {
   "cell_type": "code",
   "execution_count": 17,
   "id": "3dd37fb9",
   "metadata": {},
   "outputs": [
    {
     "name": "stdout",
     "output_type": "stream",
     "text": [
      "Before removeing duplicates data :  [3, 1, 4, 1, 5, 9, 2, 6, 5, 3, 5]\n",
      "After removeing duplicates data :  [3, 1, 4, 5, 9, 2, 6]\n"
     ]
    }
   ],
   "source": [
    "# Remove duplicates from a list.\n",
    "my_list = [3, 1, 4, 1, 5, 9, 2, 6, 5, 3, 5]\n",
    "unique_list = []\n",
    "\n",
    "for x in my_list:\n",
    "    if x not in unique_list:\n",
    "        unique_list.append(x)\n",
    "        \n",
    "print(\"Before removeing duplicates data : \",my_list)\n",
    "print(\"After removeing duplicates data : \",unique_list)"
   ]
  },
  {
   "cell_type": "code",
   "execution_count": 20,
   "id": "196e4131",
   "metadata": {},
   "outputs": [
    {
     "name": "stdout",
     "output_type": "stream",
     "text": [
      "1st list :  [1, 2, 3, 4, 5]\n",
      "2nd list is  :  [4, 5, 6, 7, 8]\n",
      "Common list is : [4, 5]\n"
     ]
    }
   ],
   "source": [
    "# Find the common elements between two lists.\n",
    "my_list1 = [1,2,3,4,5]\n",
    "my_list2 = [4,5,6,7,8] \n",
    "common_list = []\n",
    "\n",
    "for x in my_list1:\n",
    "    if x in my_list2:\n",
    "        common_list.append(x)\n",
    "        \n",
    "print(\"1st list : \",my_list1)\n",
    "print(\"2nd list is  : \",my_list2)\n",
    "\n",
    "print(\"Common list is :\",common_list)"
   ]
  },
  {
   "cell_type": "code",
   "execution_count": 24,
   "id": "2ce07c77",
   "metadata": {},
   "outputs": [
    {
     "name": "stdout",
     "output_type": "stream",
     "text": [
      "1st list :  [1, 2, 3, 4, 5]\n",
      "2nd list is  :  [4, 5, 6, 7, 8]\n",
      "Common list is : {4, 5}\n"
     ]
    }
   ],
   "source": [
    "# Find the common elements between two lists.\n",
    "my_list1 = [1,2,3,4,5]\n",
    "my_list2 = [4,5,6,7,8]\n",
    "set1 = set(my_list1)\n",
    "set2 = set(my_list2)\n",
    "common_list = set1.intersection(set2)\n",
    "print(\"1st list : \",my_list1)\n",
    "print(\"2nd list is  : \",my_list2)\n",
    "print(\"Common list is :\",common_list)"
   ]
  },
  {
   "cell_type": "code",
   "execution_count": 30,
   "id": "10694625",
   "metadata": {},
   "outputs": [
    {
     "name": "stdout",
     "output_type": "stream",
     "text": [
      "1st list is :  [1, 2, 3, 4, 5, 6]\n",
      "2nd list is :  [3, 4, 5, 6, 7, 8]\n",
      "The difference between two lists  :  [1, 2, 7, 8]\n"
     ]
    }
   ],
   "source": [
    "# Find the difference between two lists.\n",
    "my_list1 = [1,2,3,4,5,6]\n",
    "my_list2 = [3,4,5,6,7,8]\n",
    "difference_list = []\n",
    "\n",
    "for x in my_list1:\n",
    "    if x not in my_list2:\n",
    "        difference_list.append(x)\n",
    "for x in my_list2:\n",
    "    if x not in my_list1:\n",
    "        difference_list.append(x)        \n",
    "\n",
    "print(\"1st list is : \",my_list1)\n",
    "print(\"2nd list is : \",my_list2)\n",
    "print(\"The difference between two lists  : \",difference_list)"
   ]
  },
  {
   "cell_type": "code",
   "execution_count": 42,
   "id": "d8225d68",
   "metadata": {},
   "outputs": [
    {
     "name": "stdout",
     "output_type": "stream",
     "text": [
      "1st list :  [1, 2, 3, 4, 5, 6]\n",
      "2nd list is  :  [3, 4, 5, 6, 7, 8]\n",
      "The difference between two lists : [1, 2, 8, 7]\n"
     ]
    }
   ],
   "source": [
    "# Find the difference between two lists.\n",
    "my_list1 = [1,2,3,4,5,6]\n",
    "my_list2 = [3,4,5,6,7,8]\n",
    "set1 = set(my_list1)\n",
    "set2 = set(my_list2)\n",
    "\n",
    "common_list1 = list(set1.difference(set2))\n",
    "common_list2 = list(set2.difference(set1))\n",
    "\n",
    "print(\"1st list : \",my_list1)\n",
    "print(\"2nd list is  : \",my_list2)\n",
    "print(\"The difference between two lists :\",common_list1+common_list2)"
   ]
  },
  {
   "cell_type": "code",
   "execution_count": 48,
   "id": "afe6fcd9",
   "metadata": {},
   "outputs": [
    {
     "name": "stdout",
     "output_type": "stream",
     "text": [
      "Merged list using + operator:  [1, 2, 3, 4, 5, 6, 7, 8]\n"
     ]
    }
   ],
   "source": [
    "# Merge two lists.\n",
    "list1 = [1,2,3]\n",
    "list2 = [4,5,6,7,8]\n",
    "merge_list = list1 + list2\n",
    "print(\"Merged list using + operator: \",merge_list)"
   ]
  },
  {
   "cell_type": "code",
   "execution_count": 47,
   "id": "c656a3b4",
   "metadata": {},
   "outputs": [
    {
     "name": "stdout",
     "output_type": "stream",
     "text": [
      "Merged list using extend() method: [1, 2, 3, 4, 5, 6, 7, 8]\n"
     ]
    }
   ],
   "source": [
    "# Merge two lists.\n",
    "list1 = [1,2,3]\n",
    "list2 = [4,5,6,7,8]\n",
    "list1.extend(list2)\n",
    "print(\"Merged list using extend() method:\",list1)"
   ]
  },
  {
   "cell_type": "code",
   "execution_count": 51,
   "id": "9d89333f",
   "metadata": {},
   "outputs": [
    {
     "name": "stdout",
     "output_type": "stream",
     "text": [
      "Result using list comprehension: [2, 4, 6, 8, 10]\n"
     ]
    }
   ],
   "source": [
    "# Multiply all elements in a list by 2.\n",
    "original_list = [1,2,3,4,5]\n",
    "result = [x*2 for x in original_list]\n",
    "print(\"Result using list comprehension:\",result)"
   ]
  },
  {
   "cell_type": "code",
   "execution_count": 55,
   "id": "9736eeba",
   "metadata": {},
   "outputs": [
    {
     "name": "stdout",
     "output_type": "stream",
     "text": [
      "Enter the number of element : 10\n",
      "Enter the element : \n",
      "1\n",
      "2\n",
      "3\n",
      "4\n",
      "5\n",
      "6\n",
      "7\n",
      "8\n",
      "9\n",
      "10\n",
      "The list is :  [1, 2, 3, 4, 5, 6, 7, 8, 9, 10]\n",
      "Using filter out even numbers :  [2, 4, 6, 8, 10]\n"
     ]
    }
   ],
   "source": [
    "# Filter out all even numbers from a list.\n",
    "n = int(input(\"Enter the number of element : \"))\n",
    "my_list = []\n",
    "result = []\n",
    "print(\"Enter the element : \")\n",
    "for x in range(n):\n",
    "    m = int(input( ))\n",
    "    my_list.append(m)\n",
    "    \n",
    "print(\"The list is : \",my_list)\n",
    "for x in my_list:\n",
    "    if x %2 == 0:\n",
    "        result.append(x)\n",
    "\n",
    "print(\"Using filter out even numbers : \",result)    "
   ]
  },
  {
   "cell_type": "code",
   "execution_count": 4,
   "id": "a479441f",
   "metadata": {},
   "outputs": [
    {
     "name": "stdout",
     "output_type": "stream",
     "text": [
      "[1, 2, 3, 4, 5]\n"
     ]
    }
   ],
   "source": [
    "# Convert a list of strings to a list of integers.\n",
    "string_list = ['1','2','3','4','5']\n",
    "integer_list = [int(x) for x in string_list]\n",
    "print(integer_list)"
   ]
  },
  {
   "cell_type": "code",
   "execution_count": 24,
   "id": "da23b66b",
   "metadata": {},
   "outputs": [
    {
     "name": "stdout",
     "output_type": "stream",
     "text": [
      "[0, 1, 1, 2, 3, 5, 8, 13, 21, 34]\n"
     ]
    }
   ],
   "source": [
    "# Function to generate the first n Fibonacci numbers using a for loop\n",
    "def generate_fibonacci(n):\n",
    "    fibonacci_list = [0, 1]\n",
    "    for _ in range(2, n):\n",
    "        next_number = fibonacci_list[-1] + fibonacci_list[-2]\n",
    "        fibonacci_list.append(next_number)\n",
    "    return fibonacci_list\n",
    "\n",
    "first_10_fibonacci = generate_fibonacci(10)\n",
    "print(first_10_fibonacci)\n"
   ]
  },
  {
   "cell_type": "code",
   "execution_count": 30,
   "id": "56ef0053",
   "metadata": {},
   "outputs": [
    {
     "name": "stdout",
     "output_type": "stream",
     "text": [
      "[4, 5, 1, 2, 3]\n"
     ]
    }
   ],
   "source": [
    "# Rotate a list to the left by `n` positions.\n",
    "def rotate_left(input_list, n):\n",
    "    return input_list[n:] + input_list[:n]\n",
    "\n",
    "original_list = [1, 2, 3, 4, 5]\n",
    "n_positions = 3\n",
    "\n",
    "rotated_list = rotate_left(original_list, n_positions)\n",
    "print(rotated_list)"
   ]
  },
  {
   "cell_type": "code",
   "execution_count": 33,
   "id": "3a3b3764",
   "metadata": {},
   "outputs": [
    {
     "name": "stdout",
     "output_type": "stream",
     "text": [
      "[4, 5, 1, 2, 3]\n"
     ]
    }
   ],
   "source": [
    "# Rotate a list to the left by `n` positions.\n",
    "def rotate_left(input_list, position):\n",
    "    return input_list[position:] + input_list[:position]\n",
    "\n",
    "original_list = [1,2,3,4,5]\n",
    "position = 3\n",
    "\n",
    "rotated_list = rotate_left(original_list, position)\n",
    "print(rotated_list)"
   ]
  }
 ],
 "metadata": {
  "kernelspec": {
   "display_name": "Python 3 (ipykernel)",
   "language": "python",
   "name": "python3"
  },
  "language_info": {
   "codemirror_mode": {
    "name": "ipython",
    "version": 3
   },
   "file_extension": ".py",
   "mimetype": "text/x-python",
   "name": "python",
   "nbconvert_exporter": "python",
   "pygments_lexer": "ipython3",
   "version": "3.11.4"
  }
 },
 "nbformat": 4,
 "nbformat_minor": 5
}
