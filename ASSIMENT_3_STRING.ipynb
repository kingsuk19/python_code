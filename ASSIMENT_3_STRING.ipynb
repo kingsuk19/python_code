{
 "cells": [
  {
   "cell_type": "code",
   "execution_count": 2,
   "id": "04b2a148",
   "metadata": {},
   "outputs": [
    {
     "name": "stdout",
     "output_type": "stream",
     "text": [
      "Enter the string :- hello world\n",
      "The reverse string is :-  dlrow olleh\n"
     ]
    }
   ],
   "source": [
    "# Write a program to reverse a string.\n",
    "string = input(\"Enter the string :- \")\n",
    "print(\"The reverse string is :- \",string[::-1])"
   ]
  },
  {
   "cell_type": "code",
   "execution_count": 2,
   "id": "2389b1c7",
   "metadata": {},
   "outputs": [
    {
     "name": "stdout",
     "output_type": "stream",
     "text": [
      "Enter the string : madam\n",
      "The string is palindrome :  madam\n"
     ]
    }
   ],
   "source": [
    "# Check if a string is a palindrome.\n",
    "string = input(\"Enter the string : \")\n",
    "if(string == string[::-1]):\n",
    "    print(\"The string is palindrome : \",string[::-1])\n",
    "else:\n",
    "    print(\"The string is not palindrome  \")"
   ]
  },
  {
   "cell_type": "code",
   "execution_count": 6,
   "id": "e1b6b83f",
   "metadata": {},
   "outputs": [
    {
     "name": "stdout",
     "output_type": "stream",
     "text": [
      "Enter the string in lower case : Hello World\n",
      "String upper case is ::  HELLO WORLD\n"
     ]
    }
   ],
   "source": [
    "# Convert a string to uppercase.\n",
    "string = input(\"Enter the string in lower case : \")\n",
    "# upper_case = string.upper()\n",
    "# print(\"String upper case is :: \",upper_case)\n",
    "print(\"String upper case is :: \",string.upper())"
   ]
  },
  {
   "cell_type": "code",
   "execution_count": 9,
   "id": "b66b455c",
   "metadata": {},
   "outputs": [
    {
     "name": "stdout",
     "output_type": "stream",
     "text": [
      "Enter the string upper case : hELLO wORLD\n",
      "String lower case is ::  hello world\n"
     ]
    }
   ],
   "source": [
    "# Convert a string to lowercase.\n",
    "string = input(\"Enter the string upper case : \")\n",
    "# lower_case = string.lower()\n",
    "# print(\"String lower case is :: \",lower_case)\n",
    "print(\"String lower case is :: \",string.lower())"
   ]
  },
  {
   "cell_type": "code",
   "execution_count": 11,
   "id": "39bb83c4",
   "metadata": {},
   "outputs": [
    {
     "name": "stdout",
     "output_type": "stream",
     "text": [
      "Enter the string : ki boss valo to!!\n",
      "In --ki boss valo to!!-- total vowles is :  5\n"
     ]
    }
   ],
   "source": [
    "# Count the number of vowels in a string.\n",
    "string = input(\"Enter the string : \")\n",
    "vowels = 'a','e','i','o','u','A','O','U','E','I'\n",
    "count = 0\n",
    "for x in string:\n",
    "    if x in vowels:\n",
    "        count = count + 1\n",
    "print(f\"In --{string}-- total vowles is : \",count)"
   ]
  },
  {
   "cell_type": "code",
   "execution_count": 19,
   "id": "5e1786ca",
   "metadata": {},
   "outputs": [
    {
     "name": "stdout",
     "output_type": "stream",
     "text": [
      "Enter the string : hello\n",
      "In --hello-- total consonants is :  3\n"
     ]
    }
   ],
   "source": [
    "# Count the number of consonants in a string.\n",
    "string = input(\"Enter the string : \")\n",
    "vowels = (\"aeiouAEIOU\")\n",
    "count = 0\n",
    "for x in string:\n",
    "    if x not in vowels:\n",
    "        count = count + 1\n",
    "print(f\"In --{string}-- total consonants is : \",count)"
   ]
  },
  {
   "cell_type": "code",
   "execution_count": 20,
   "id": "8a2e1142",
   "metadata": {},
   "outputs": [
    {
     "name": "stdout",
     "output_type": "stream",
     "text": [
      "Enter the string : Hello World\n",
      "After the remove space string is :  HelloWorld\n"
     ]
    }
   ],
   "source": [
    "# Remove all whitespaces from a string.\n",
    "string = input(\"Enter the string : \")\n",
    "# new_string = string.replace(\" \",\"\")\n",
    "# print(\"After the remove space string is : \",new_string)\n",
    "print(\"After the remove space string is : \",string.replace(\" \",\"\"))"
   ]
  },
  {
   "cell_type": "code",
   "execution_count": 22,
   "id": "7a514251",
   "metadata": {},
   "outputs": [
    {
     "name": "stdout",
     "output_type": "stream",
     "text": [
      "Enter the string : object\n",
      " The string length ::  6\n"
     ]
    }
   ],
   "source": [
    "# Find the length of a string without using the `len()` function.\n",
    "string = input(\"Enter the string : \")\n",
    "length = 0\n",
    "for x in string:\n",
    "    length = length + 1\n",
    "print(f\" The string length :: \",length)"
   ]
  },
  {
   "cell_type": "code",
   "execution_count": 24,
   "id": "8e5017ce",
   "metadata": {},
   "outputs": [
    {
     "name": "stdout",
     "output_type": "stream",
     "text": [
      "Enter the string : This is a sample sentence.\n",
      "Enter the finding word : sample\n",
      "The word is found !!\n"
     ]
    }
   ],
   "source": [
    "# Check if a string contains a specific word.\n",
    "string = input(\"Enter the string : \")\n",
    "find_word = input(\"Enter the finding word : \")\n",
    "if find_word in string:\n",
    "    print(\"The word is found !!\")\n",
    "else:\n",
    "    print(\"The word is not found!!\")"
   ]
  },
  {
   "cell_type": "code",
   "execution_count": 27,
   "id": "08aac891",
   "metadata": {},
   "outputs": [
    {
     "name": "stdout",
     "output_type": "stream",
     "text": [
      "Enter the sentence : This is a sample sentence. This is another example.\n",
      "Enter the word which you change : sample\n",
      "Enter the word :replacement\n",
      "Before replaceing sentence :  This is a sample sentence. This is another example.\n",
      "After replaceing sentence ::  This is a replacement sentence. This is another example.\n"
     ]
    }
   ],
   "source": [
    "# Replace a word in a string with another word.\n",
    "string = input(\"Enter the sentence : \")\n",
    "replace_word = input(\"Enter the word which you change : \")\n",
    "re_word = input(\"Enter the word :\")\n",
    "\n",
    "print(\"Before replaceing sentence : \",string)\n",
    "print(\"After replaceing sentence :: \",string.replace(replace_word,re_word))"
   ]
  },
  {
   "cell_type": "code",
   "execution_count": 37,
   "id": "812f7d59",
   "metadata": {},
   "outputs": [
    {
     "name": "stdout",
     "output_type": "stream",
     "text": [
      "Enter the string : This is a sample sentence. This is another example.\n",
      "Enter fingding word :is\n",
      "The the word is 2 time occurences.\n"
     ]
    }
   ],
   "source": [
    "# Count the occurrences of a word in a string.\n",
    "text = input(\"Enter the string : \")\n",
    "word_count = input(\"Enter fingding word :\")\n",
    "words = text.split()\n",
    "count = 0\n",
    "for word in words:\n",
    "    if(word == word_count):\n",
    "        count = count+1\n",
    "\n",
    "print(f\"The the word is {count} time occurences.\")"
   ]
  },
  {
   "cell_type": "code",
   "execution_count": 43,
   "id": "a6c1d396",
   "metadata": {},
   "outputs": [
    {
     "name": "stdout",
     "output_type": "stream",
     "text": [
      "Enter the string : This is a sample sentence. This is another example. This is the last example.\n",
      "Enter fingding word :is\n",
      "The word 'is' first appears at index 2.\n"
     ]
    }
   ],
   "source": [
    "# Find the first occurrence of a word in a string.\n",
    "text = input(\"Enter the string : \")\n",
    "word_count = input(\"Enter fingding word :\")\n",
    "index = text.find(word_count)\n",
    "\n",
    "if index != -1:\n",
    "    print(f\"The word '{word_count}' first appears at index {index}.\")\n",
    "else:\n",
    "    print(f\"The word '{word_count}'not found inthe string.\")"
   ]
  },
  {
   "cell_type": "code",
   "execution_count": 46,
   "id": "2c38a272",
   "metadata": {},
   "outputs": [
    {
     "name": "stdout",
     "output_type": "stream",
     "text": [
      "Enter the string : This is a sample sentence. This is another example.\n",
      "Enter fingding word :is\n",
      "The word 'is' last appears at index 32.\n"
     ]
    }
   ],
   "source": [
    "# Find the last occurrence of a word in a string.\n",
    "text = input(\"Enter the string : \")\n",
    "word_to_find = input(\"Enter fingding word :\")\n",
    "index = text.rfind(word_to_find)\n",
    "\n",
    "if index != -1:\n",
    "    print(f\"The word '{word_to_find}' last appears at index {index}.\")\n",
    "else:\n",
    "    print(f\"The word '{word_to_find}' is not found in the string.\")\n"
   ]
  },
  {
   "cell_type": "code",
   "execution_count": 3,
   "id": "ed86843d",
   "metadata": {},
   "outputs": [
    {
     "name": "stdout",
     "output_type": "stream",
     "text": [
      "Enter the string input :- \"This is a: sample sentence, with punctuation! It's split\n",
      "After split the string is ::  ['\"This', 'is', 'a:', 'sample', 'sentence,', 'with', 'punctuation!', \"It's\", 'split']\n"
     ]
    }
   ],
   "source": [
    "# Split a string into a list of words.\n",
    "text = input(\"Enter the string input :- \")\n",
    "# new_text = text.split()\n",
    "# print(\"After split the string is :: \",new_text)\n",
    "print(\"After split the string is :: \",text.split())"
   ]
  },
  {
   "cell_type": "code",
   "execution_count": 5,
   "id": "457436c2",
   "metadata": {},
   "outputs": [
    {
     "name": "stdout",
     "output_type": "stream",
     "text": [
      "Enter the number of words :-5\n",
      "Enter the word :- This\n",
      "Enter the word :- is\n",
      "Enter the word :- a\n",
      "Enter the word :- sample\n",
      "Enter the word :- sentence\n",
      "Before join the list is :-  ['This', 'is', 'a', 'sample', 'sentence']\n",
      "After join the list is :-  This is a sample sentence\n"
     ]
    }
   ],
   "source": [
    "# Join a list of words into a string.\n",
    "text = int(input(\"Enter the number of words :-\"))\n",
    "word = []\n",
    "for x in range(text):\n",
    "    element = input(\"Enter the word :- \")\n",
    "    word.append(element)\n",
    "\n",
    "print(\"Before join the list is :- \",word)\n",
    "separator = \" \"\n",
    "print(\"After join the list is :- \",separator.join(word))\n"
   ]
  },
  {
   "cell_type": "code",
   "execution_count": 6,
   "id": "d112308a",
   "metadata": {},
   "outputs": [
    {
     "name": "stdout",
     "output_type": "stream",
     "text": [
      "Enter the words , where separated by spaces :- hello world in python\n",
      "After replace , the word is :-  hello_world_in_python\n"
     ]
    }
   ],
   "source": [
    "# Convert a string where words are separated by spaces to one where words are separated by underscores.\n",
    "string = input(\"Enter the words , where separated by spaces :- \")\n",
    "print(\"After replace , the word is :- \",string.replace(\" \",\"_\"))"
   ]
  },
  {
   "cell_type": "code",
   "execution_count": 11,
   "id": "9f1924b3",
   "metadata": {},
   "outputs": [
    {
     "name": "stdout",
     "output_type": "stream",
     "text": [
      "Enter the string :- the quick brown fox jump over the lazy dog.\n",
      "Enter the checking word :- the quick brown\n",
      "The string starts with the phrase 'the quick brown'.\n"
     ]
    }
   ],
   "source": [
    "# Check if a string starts with a specific word or phrase.\n",
    "text = input(\"Enter the string :- \")\n",
    "first_word = input(\"Enter the checking word :- \")\n",
    "if text.startswith(first_word):\n",
    "     print(f\"The string starts with the phrase '{first_word}'.\")\n",
    "else:\n",
    "    print(f\"The string not start with phrase '{first_word}'.\")"
   ]
  },
  {
   "cell_type": "code",
   "execution_count": 13,
   "id": "acd05d70",
   "metadata": {},
   "outputs": [
    {
     "name": "stdout",
     "output_type": "stream",
     "text": [
      "Enter the string :-  the quick brown fox jump over the lazy dog\n",
      "Enter the checking word :- dog\n",
      "The string end with the phrase 'dog'.\n"
     ]
    }
   ],
   "source": [
    "# Check if a string ends with a specific word or phrase.\n",
    "text = input(\"Enter the string :- \")\n",
    "last_word = input(\"Enter the checking word :- \")\n",
    "if text.endswith(last_word):\n",
    "     print(f\"The string end with the phrase '{last_word}'.\")\n",
    "else:\n",
    "    print(f\"The string not end with phrase '{last_word}'.\")"
   ]
  },
  {
   "cell_type": "code",
   "execution_count": 15,
   "id": "76515e09",
   "metadata": {},
   "outputs": [
    {
     "name": "stdout",
     "output_type": "stream",
     "text": [
      "Enter the string :- hello world\n",
      "Convert a string to title case :-  Hello World\n"
     ]
    }
   ],
   "source": [
    "# Convert a string to title case (e.g., \"hello world\" to \"Hello World\").\n",
    "text = input(\"Enter the string :- \")\n",
    "print(\"Convert a string to title case :- \",text.title())"
   ]
  },
  {
   "cell_type": "code",
   "execution_count": 28,
   "id": "47f62a6a",
   "metadata": {},
   "outputs": [
    {
     "name": "stdout",
     "output_type": "stream",
     "text": [
      "Enter the string :- the quick brown fox jump over the lazy dog\n",
      "The longest word is: quick\n",
      "Its length is: 5\n"
     ]
    }
   ],
   "source": [
    "# Find the longest word in a string.\n",
    "text = input(\"Enter the string :- \")\n",
    "longest_word = ''\n",
    "max_length = 0\n",
    "words = text.split()\n",
    "\n",
    "for x in words:\n",
    "    if len(x) > max_length:\n",
    "        max_length = len(x)\n",
    "        longest_word = x\n",
    "\n",
    "print(\"The longest word is:\", longest_word)\n",
    "print(\"Its length is:\", max_length)\n"
   ]
  },
  {
   "cell_type": "code",
   "execution_count": 5,
   "id": "c54606a7",
   "metadata": {},
   "outputs": [
    {
     "name": "stdout",
     "output_type": "stream",
     "text": [
      "Enter the string :- the quick brown fox jump over the lazy dog.\n",
      "The shortest word is: the\n",
      "Its length is: 3\n"
     ]
    }
   ],
   "source": [
    "# Find the shortest word in a string.\n",
    "text = input(\"Enter the string :- \")\n",
    "shortest_word = None\n",
    "min_length = float('inf')\n",
    "words = text.split()\n",
    "\n",
    "for x in words:\n",
    "    if len(x) < min_length:\n",
    "        min_length = len(x)\n",
    "        shortest_word = x\n",
    "\n",
    "print(\"The shortest word is:\", shortest_word)\n",
    "print(\"Its length is:\", min_length)"
   ]
  },
  {
   "cell_type": "code",
   "execution_count": 13,
   "id": "40e1802d",
   "metadata": {},
   "outputs": [
    {
     "name": "stdout",
     "output_type": "stream",
     "text": [
      "Enter the string :- the quick brown fox jump over the lazy dog.\n",
      "After the reverse words, as a list words :-  ['dog.', 'lazy', 'the', 'over', 'jump', 'fox', 'brown', 'quick', 'the']\n",
      "dog. lazy the over jump fox brown quick the\n"
     ]
    }
   ],
   "source": [
    "# Reverse the order of words in a string.\n",
    "text = input(\"Enter the string :- \")\n",
    "words = text.split()\n",
    "reverse_words = list(reversed(words))\n",
    "print(\"After the reverse words, as a list words :- \",reverse_words)\n",
    "print(' '.join(reverse_words))"
   ]
  },
  {
   "cell_type": "code",
   "execution_count": 2,
   "id": "0929f4bb",
   "metadata": {},
   "outputs": [
    {
     "name": "stdout",
     "output_type": "stream",
     "text": [
      "Enter the string is alphanumeric form :- Python1234\n",
      "Python1234 the string is alphanumeric.\n"
     ]
    }
   ],
   "source": [
    "# Check if a string is alphanumeric.\n",
    "text = input(\"Enter the string is alphanumeric form :- \")\n",
    "if text.isalnum:\n",
    "    print(f\"{text} the string is alphanumeric.\")\n",
    "else:\n",
    "     print(f\"{text} the string not is alphanumeric.\")"
   ]
  },
  {
   "cell_type": "code",
   "execution_count": 3,
   "id": "0750c130",
   "metadata": {},
   "outputs": [
    {
     "name": "stdout",
     "output_type": "stream",
     "text": [
      "Enter the string with some digits :- hello 1234 world 7778\n",
      "['1', '2', '3', '4', '7', '7', '7', '8']\n"
     ]
    }
   ],
   "source": [
    "# Extract all digits from a string.\n",
    "string = input(\"Enter the string with some digits :- \")\n",
    "digit = []\n",
    "\n",
    "for x in string:\n",
    "    if x.isdigit():\n",
    "        digit.append(x)\n",
    "\n",
    "print(digit)"
   ]
  },
  {
   "cell_type": "code",
   "execution_count": 4,
   "id": "094cf0e3",
   "metadata": {},
   "outputs": [
    {
     "name": "stdout",
     "output_type": "stream",
     "text": [
      "Enter the string with some digits :- hello 123 world 8787\n",
      "['h', 'e', 'l', 'l', 'o', 'w', 'o', 'r', 'l', 'd']\n"
     ]
    }
   ],
   "source": [
    "# Extract all alphabets from a string.\n",
    "string = input(\"Enter the string with some digits :- \")\n",
    "alphabets = []\n",
    "\n",
    "for x in string:\n",
    "    if x.isalpha():\n",
    "        alphabets.append(x)\n",
    "\n",
    "print(alphabets)"
   ]
  },
  {
   "cell_type": "code",
   "execution_count": 1,
   "id": "a740b65d",
   "metadata": {},
   "outputs": [
    {
     "name": "stdout",
     "output_type": "stream",
     "text": [
      "Enter the word with upper case :- Hello World! This is a example.\n",
      "Total uppercase letters are :-  3\n"
     ]
    }
   ],
   "source": [
    "# Count the number of uppercase letters in a string.\n",
    "string = input(\"Enter the word with upper case :- \")\n",
    "count = 0\n",
    "\n",
    "for x in string:\n",
    "    if x.isupper():\n",
    "        count = count +1 \n",
    "\n",
    "print(\"Total uppercase letters are :- \",count)"
   ]
  },
  {
   "cell_type": "code",
   "execution_count": 2,
   "id": "9cad2a85",
   "metadata": {},
   "outputs": [
    {
     "name": "stdout",
     "output_type": "stream",
     "text": [
      "Enter the word with upper case :- Hello World! This is a example.\n",
      "Total uppercase letters are :-  21\n"
     ]
    }
   ],
   "source": [
    "# Count the number of lowercase letters in a string.\n",
    "string = input(\"Enter the word with upper case :- \")\n",
    "count = 0\n",
    "\n",
    "for x in string:\n",
    "    if x.islower():\n",
    "        count = count +1 \n",
    "\n",
    "print(\"Total uppercase letters are :- \",count)"
   ]
  },
  {
   "cell_type": "code",
   "execution_count": 5,
   "id": "8785a4ca",
   "metadata": {},
   "outputs": [
    {
     "name": "stdout",
     "output_type": "stream",
     "text": [
      "Enter the string with upper lower case :- Hello World!!\n",
      "After swap the case :-  hELLO wORLD!!\n"
     ]
    }
   ],
   "source": [
    "# Swap the case of each character in a string.\n",
    "string = input(\"Enter the string with upper lower case :- \")\n",
    "# swapped_string = string.swapcase()\n",
    "# print(swapped_string)\n",
    "print(\"After swap the case :- \",string.swapcase())"
   ]
  },
  {
   "cell_type": "code",
   "execution_count": 7,
   "id": "2c78fdcb",
   "metadata": {},
   "outputs": [
    {
     "name": "stdout",
     "output_type": "stream",
     "text": [
      "Enter the string :- This is a sample sentence. Please remove the word sample.\n",
      "Enter the removeing word :- sample\n",
      "This is a  sentence. Please remove the word .\n"
     ]
    }
   ],
   "source": [
    "# Remove a specific word from a string.\n",
    "string = input(\"Enter the string :- \")\n",
    "remove_word = input(\"Enter the removeing word :- \")\n",
    "output_string = string.replace(remove_word,'')\n",
    "print(output_string)"
   ]
  },
  {
   "cell_type": "code",
   "execution_count": 2,
   "id": "4585c004",
   "metadata": {},
   "outputs": [
    {
     "name": "stdout",
     "output_type": "stream",
     "text": [
      "Enter the valid email address :- example@email.com\n",
      "'example@email.com' is a valid email address.\n"
     ]
    }
   ],
   "source": [
    "# Check if a string is a valid email address.\n",
    "import re\n",
    "\n",
    "def is_valid_email(email):\n",
    "    pattern = r'^[a-zA-Z0-9._%+-]+@[a-zA-Z0-9.-]+\\.[a-zA-Z]{2,}$'\n",
    "\n",
    "    if re.match(pattern, email):\n",
    "        return True\n",
    "    else:\n",
    "        return False\n",
    "\n",
    "email = input(\"Enter the valid email address :- \")\n",
    "if is_valid_email(email):\n",
    "    print(f\"'{email}' is a valid email address.\")\n",
    "else:\n",
    "    print(f\"'{email}' is not a valid email address.\")\n"
   ]
  }
 ],
 "metadata": {
  "kernelspec": {
   "display_name": "Python 3 (ipykernel)",
   "language": "python",
   "name": "python3"
  },
  "language_info": {
   "codemirror_mode": {
    "name": "ipython",
    "version": 3
   },
   "file_extension": ".py",
   "mimetype": "text/x-python",
   "name": "python",
   "nbconvert_exporter": "python",
   "pygments_lexer": "ipython3",
   "version": "3.11.4"
  }
 },
 "nbformat": 4,
 "nbformat_minor": 5
}
