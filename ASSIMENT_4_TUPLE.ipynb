{
 "cells": [
  {
   "cell_type": "code",
   "execution_count": 2,
   "id": "8cebfe7d",
   "metadata": {},
   "outputs": [
    {
     "name": "stdout",
     "output_type": "stream",
     "text": [
      "<class 'tuple'>\n",
      "(1, 2, 3, 4, 5)\n"
     ]
    }
   ],
   "source": [
    "# Create a tuple with integers from 1 to 5.\n",
    "tup = (1,2,3,4,5)\n",
    "print(type(tup))\n",
    "print(tup)"
   ]
  },
  {
   "cell_type": "code",
   "execution_count": 4,
   "id": "4fde9efa",
   "metadata": {},
   "outputs": [
    {
     "name": "stdout",
     "output_type": "stream",
     "text": [
      "third element :  3\n"
     ]
    }
   ],
   "source": [
    "# Access the third element of a tuple.\n",
    "tup = (1,2,3,4,5,6,7,)\n",
    "print(\"third element : \",tup[2])"
   ]
  },
  {
   "cell_type": "code",
   "execution_count": 7,
   "id": "64a85f4e",
   "metadata": {},
   "outputs": [
    {
     "name": "stdout",
     "output_type": "stream",
     "text": [
      "Length of the tuple : 8\n"
     ]
    }
   ],
   "source": [
    "# Find the length of a tuple without using the `len()` function.\n",
    "my_tuple = (1,2,3,4,5,6,7,8)\n",
    "count = 0\n",
    "for i in my_tuple:\n",
    "    count += 1;\n",
    "print(\"Length of the tuple :\",count)"
   ]
  },
  {
   "cell_type": "code",
   "execution_count": 9,
   "id": "22674c75",
   "metadata": {},
   "outputs": [
    {
     "name": "stdout",
     "output_type": "stream",
     "text": [
      "The element 2  occurs 3  time in the tuple .\n"
     ]
    }
   ],
   "source": [
    "# Count the occurrences of an element in a tuple.\n",
    "my_tuple = (1, 2, 3, 4, 2, 6, 7, 8, 2)\n",
    "element = 2 \n",
    "occurrences = my_tuple.count(element)\n",
    "print(f\"The element {element}  occurs {occurrences}  time in the tuple .\")"
   ]
  },
  {
   "cell_type": "code",
   "execution_count": 19,
   "id": "3a97977e",
   "metadata": {},
   "outputs": [
    {
     "name": "stdout",
     "output_type": "stream",
     "text": [
      "The 4  index of : 3\n"
     ]
    }
   ],
   "source": [
    "# Find the index of the first occurrence of an element in a tuple.\n",
    "my_tuple = (1, 2, 3, 4, 2, 6, 7, 8, 2,4) \n",
    "element = 4\n",
    "count = -1\n",
    "for x in my_tuple:\n",
    "    count += 1 \n",
    "    if (x == element): \n",
    "        break\n",
    "\n",
    "print(f\"The {element}  index of :\",count)"
   ]
  },
  {
   "cell_type": "code",
   "execution_count": 17,
   "id": "923f5b92",
   "metadata": {},
   "outputs": [
    {
     "name": "stdout",
     "output_type": "stream",
     "text": [
      "The element 2  is at index 1 in the tuple .\n"
     ]
    }
   ],
   "source": [
    "# Find the index of the first occurrence of an element in a tuple.\n",
    "my_tuple = (1, 2, 3, 4, 2, 6, 7, 8, 2)\n",
    "element = 2 \n",
    "occurrences = my_tuple.index(element)\n",
    "print(f\"The element {element}  is at index {occurrences} in the tuple .\")"
   ]
  },
  {
   "cell_type": "code",
   "execution_count": 20,
   "id": "ec113bbc",
   "metadata": {},
   "outputs": [
    {
     "name": "stdout",
     "output_type": "stream",
     "text": [
      "4 is exists in the tuple .\n"
     ]
    }
   ],
   "source": [
    "# Check if an element exists in a tuple.\n",
    "my_tuple = (1, 2, 3, 4, 2, 6, 7, 8, 2,4) \n",
    "element = 4\n",
    "if element in my_tuple:\n",
    "    print(f\"{element } is exists in the tuple .\")\n",
    "else:\n",
    "    print(f\"{element } is not exists in the tuple .\")"
   ]
  },
  {
   "cell_type": "code",
   "execution_count": 21,
   "id": "b3d9cf56",
   "metadata": {},
   "outputs": [
    {
     "name": "stdout",
     "output_type": "stream",
     "text": [
      "Tuple : (1, 2, 3, 4, 5)\n",
      "<class 'tuple'>\n",
      "List : [1, 2, 3, 4, 5]\n",
      "<class 'list'>\n"
     ]
    }
   ],
   "source": [
    "# Convert a tuple to a list.\n",
    "my_tuple = (1,2,3,4,5)\n",
    "my_list = list(my_tuple)\n",
    "print(\"Tuple :\",my_tuple)\n",
    "print(type(my_tuple))\n",
    "print(\"List :\",my_list)\n",
    "print(type(my_list))"
   ]
  },
  {
   "cell_type": "code",
   "execution_count": 22,
   "id": "97eac531",
   "metadata": {},
   "outputs": [
    {
     "name": "stdout",
     "output_type": "stream",
     "text": [
      "List : [1, 2, 3, 4, 5]\n",
      "<class 'list'>\n",
      "List : (1, 2, 3, 4, 5)\n",
      "<class 'tuple'>\n"
     ]
    }
   ],
   "source": [
    "# Convert a list to a tuple.\n",
    "my_list = [1,2,3,4,5]\n",
    "my_tuple = tuple(my_tuple)\n",
    "print(\"List :\",my_list)\n",
    "print(type(my_list))\n",
    "print(\"List :\",my_tuple)\n",
    "print(type(my_tuple))"
   ]
  },
  {
   "cell_type": "code",
   "execution_count": 24,
   "id": "06574cd1",
   "metadata": {},
   "outputs": [
    {
     "name": "stdout",
     "output_type": "stream",
     "text": [
      "a: 1\n",
      "b: 2\n",
      "c: 3\n"
     ]
    }
   ],
   "source": [
    "# Unpack the elements of a tuple into variables.\n",
    "my_tuple = (1,2,3)\n",
    "a, b, c = my_tuple\n",
    "print(\"a:\",a)\n",
    "print(\"b:\",b)\n",
    "print(\"c:\",c)"
   ]
  },
  {
   "cell_type": "code",
   "execution_count": 27,
   "id": "73c097a5",
   "metadata": {},
   "outputs": [
    {
     "name": "stdout",
     "output_type": "stream",
     "text": [
      "(1, 3, 5, 7, 9)\n"
     ]
    }
   ],
   "source": [
    "# Create a tuple of even numbers from 1 to 10.\n",
    "my_tuple = tuple(range(1,11,2))\n",
    "print(my_tuple)"
   ]
  },
  {
   "cell_type": "code",
   "execution_count": 28,
   "id": "52a8782a",
   "metadata": {},
   "outputs": [
    {
     "name": "stdout",
     "output_type": "stream",
     "text": [
      "(1, 3, 5, 7, 9)\n"
     ]
    }
   ],
   "source": [
    "# Create a tuple of odd numbers from 1 to 10.\n",
    "my_tuple = tuple(range(1,11,2))\n",
    "print(my_tuple)"
   ]
  },
  {
   "cell_type": "code",
   "execution_count": 31,
   "id": "668d2ded",
   "metadata": {},
   "outputs": [
    {
     "name": "stdout",
     "output_type": "stream",
     "text": [
      "Tuple 1 : (1, 2, 3)\n",
      "Tuple 2 : (4, 5, 6)\n",
      "Concatenate Tuple : (1, 2, 3, 4, 5, 6)\n"
     ]
    }
   ],
   "source": [
    "# Concatenate two tuples.\n",
    "tup1 = (1,2,3)\n",
    "tup2 = (4,5,6)\n",
    "concatenate = tup1 + tup2\n",
    "print(\"Tuple 1 :\",tup1)\n",
    "print(\"Tuple 2 :\",tup2)\n",
    "print(\"Concatenate Tuple :\",concatenate)"
   ]
  },
  {
   "cell_type": "code",
   "execution_count": 35,
   "id": "86b344a7",
   "metadata": {},
   "outputs": [
    {
     "name": "stdout",
     "output_type": "stream",
     "text": [
      "Original Tuple: (1, 2, 3)\n",
      "Repeated Tuple: (1, 2, 3, 1, 2, 3, 1, 2, 3)\n"
     ]
    }
   ],
   "source": [
    "# Repeat a tuple three times.\n",
    "original_tup = (1,2,3)\n",
    "repeated_tup = original_tup * 3\n",
    "print(\"Original Tuple:\",original_tup)\n",
    "print(\"Repeated Tuple:\",repeated_tup)"
   ]
  },
  {
   "cell_type": "code",
   "execution_count": 39,
   "id": "6f1f7b19",
   "metadata": {},
   "outputs": [
    {
     "name": "stdout",
     "output_type": "stream",
     "text": [
      "The tuple is empty.\n"
     ]
    }
   ],
   "source": [
    "# Check if a tuple is empty.\n",
    "my_tuple = ()\n",
    "\n",
    "if not my_tuple:\n",
    "    print(\"The tuple is empty.\")\n",
    "else:\n",
    "    print(\"The tuple is not empty.\")"
   ]
  },
  {
   "cell_type": "code",
   "execution_count": 1,
   "id": "469b8dc7",
   "metadata": {},
   "outputs": [
    {
     "name": "stdout",
     "output_type": "stream",
     "text": [
      "((1, 2, 3), ('a', 'b', 'c'), (True, False))\n"
     ]
    }
   ],
   "source": [
    "# Create a nested tuple.\n",
    "nested_tuple = ((1,2,3),('a','b','c'),(True, False))\n",
    "print(nested_tuple)"
   ]
  },
  {
   "cell_type": "code",
   "execution_count": 6,
   "id": "7b184043",
   "metadata": {},
   "outputs": [
    {
     "name": "stdout",
     "output_type": "stream",
     "text": [
      "First element of the nasted tuple: 1\n"
     ]
    }
   ],
   "source": [
    "# Access the first element of a nested tuple.\n",
    "nested_tuple = ((1,2,3),('a','b','c'),(True, False))\n",
    "print(\"First element of the nasted tuple:\",nested_tuple[0][0])"
   ]
  },
  {
   "cell_type": "code",
   "execution_count": 10,
   "id": "ac0425d6",
   "metadata": {},
   "outputs": [
    {
     "name": "stdout",
     "output_type": "stream",
     "text": [
      "(42,)\n"
     ]
    }
   ],
   "source": [
    "# Create a tuple with a single element.\n",
    "single_element = (42,)\n",
    "print(single_element)"
   ]
  },
  {
   "cell_type": "code",
   "execution_count": 14,
   "id": "268b3a04",
   "metadata": {},
   "outputs": [
    {
     "name": "stdout",
     "output_type": "stream",
     "text": [
      "Tuple are not equal\n",
      "First Tuple is not greater \n",
      "Second tuple is not less\n"
     ]
    }
   ],
   "source": [
    "# Compare two tuples.\n",
    "tuple1 = (1,2,3)\n",
    "tuple2 = (1,2,5)\n",
    "\n",
    "if tuple1 == tuple2:\n",
    "    print(\"Tuple are equal \")\n",
    "else:\n",
    "    print(\"Tuple are not equal\")\n",
    "\n",
    "if tuple1 > tuple2:\n",
    "    print(\"First Tuple is greater \")\n",
    "else:\n",
    "    print(\"First Tuple is not greater \")\n",
    "\n",
    "if tuple2 < tuple1:\n",
    "    print(\"Second tuple is less\")\n",
    "else:\n",
    "    print(\"Second tuple is not less\")"
   ]
  },
  {
   "cell_type": "code",
   "execution_count": 4,
   "id": "5489c982",
   "metadata": {},
   "outputs": [
    {
     "name": "stdout",
     "output_type": "stream",
     "text": [
      "(1, 2, 3)\n"
     ]
    }
   ],
   "source": [
    "# Delete a tuple.\n",
    "tup = (1,2,3)\n",
    "print(tup)\n",
    "del tup"
   ]
  },
  {
   "cell_type": "code",
   "execution_count": 13,
   "id": "97a8e76b",
   "metadata": {},
   "outputs": [
    {
     "name": "stdout",
     "output_type": "stream",
     "text": [
      "original tuple : (1, 2, 3, 4, 5, 6)\n",
      "sliced tuple :  (2, 3, 4)\n"
     ]
    }
   ],
   "source": [
    "# Slice a tuple.\n",
    "my_tuple = (1,2,3,4,5,6)\n",
    "sliced_tuple = my_tuple[1:4]\n",
    "print(\"original tuple :\",my_tuple)\n",
    "print(\"sliced tuple : \",sliced_tuple)"
   ]
  },
  {
   "cell_type": "code",
   "execution_count": 20,
   "id": "64e42c97",
   "metadata": {},
   "outputs": [
    {
     "name": "stdout",
     "output_type": "stream",
     "text": [
      "Original Tuple: (1, 2, 3, 4, 5, 6, 7, 8, 9)\n",
      "Maximum Value: 9\n"
     ]
    }
   ],
   "source": [
    "# Find the maximum value in a tuple.\n",
    "my_tuple = (1,2,3,4,5,6,7,8,9)\n",
    "print(\"Original Tuple:\",my_tuple)\n",
    "print(\"Maximum Value:\",max(my_tuple))"
   ]
  },
  {
   "cell_type": "code",
   "execution_count": 23,
   "id": "7264bbc7",
   "metadata": {},
   "outputs": [
    {
     "name": "stdout",
     "output_type": "stream",
     "text": [
      "Original Tuple: ('apple', 'banana', 'orange', 'kiwi')\n",
      "Maximum Value: kiwi\n"
     ]
    }
   ],
   "source": [
    "# Find the minimum value in a tuple.\n",
    "my_tuple = ('apple', 'banana', 'orange', 'kiwi')\n",
    "min_value = min(my_tuple, key = len)\n",
    "print(\"Original Tuple:\",my_tuple)\n",
    "print(\"Maximum Value:\",min_value)"
   ]
  },
  {
   "cell_type": "code",
   "execution_count": 24,
   "id": "5c4db014",
   "metadata": {},
   "outputs": [
    {
     "name": "stdout",
     "output_type": "stream",
     "text": [
      "Original string : hello, wolrd\n",
      "tuple of charaters :  ('h', 'e', 'l', 'l', 'o', ',', ' ', 'w', 'o', 'l', 'r', 'd')\n"
     ]
    }
   ],
   "source": [
    "# Convert a string to a tuple of characters.\n",
    "my_string = \"hello, wolrd\"\n",
    "tuple_of_characters = tuple(my_string)\n",
    "print(\"Original string :\",my_string)\n",
    "print(\"tuple of charaters : \",tuple_of_characters)"
   ]
  },
  {
   "cell_type": "code",
   "execution_count": 10,
   "id": "f9078c5c",
   "metadata": {},
   "outputs": [
    {
     "name": "stdout",
     "output_type": "stream",
     "text": [
      "<class 'tuple'>\n",
      "string of characters: Hello world!\n"
     ]
    }
   ],
   "source": [
    "# # Convert a tuple of characters to a string.\n",
    "my_tuple = ('H','e','l','l','o',' ','w','o','r','l','d','!')\n",
    "print(type(my_tuple))\n",
    "string = ''.join(my_tuple)\n",
    "print(\"string of characters:\",string)"
   ]
  },
  {
   "cell_type": "code",
   "execution_count": 11,
   "id": "c80d1c4e",
   "metadata": {},
   "outputs": [
    {
     "name": "stdout",
     "output_type": "stream",
     "text": [
      "(1, 'hello', 3.14, True)\n"
     ]
    }
   ],
   "source": [
    "# Create a tuple from multiple data types.\n",
    "my_tuple = (1,'hello',3.14,True)\n",
    "print(my_tuple)"
   ]
  },
  {
   "cell_type": "code",
   "execution_count": 16,
   "id": "b42ad1e4",
   "metadata": {},
   "outputs": [
    {
     "name": "stdout",
     "output_type": "stream",
     "text": [
      "The tuples refers to the same objects.\n"
     ]
    }
   ],
   "source": [
    "# Check if two tuples are identical.\n",
    "tuple1 = (1, 'hello', 3.14)\n",
    "tuple2 = (1, 'hello', 3.14)\n",
    "if tuple1 == tuple2:\n",
    "    print(\"The tuples refers to the same objects.\")\n",
    "else:\n",
    "    print(\"The tuples not refers to the same obects.\")"
   ]
  },
  {
   "cell_type": "code",
   "execution_count": 1,
   "id": "96ba3f1d",
   "metadata": {},
   "outputs": [
    {
     "name": "stdout",
     "output_type": "stream",
     "text": [
      "Enter the number of element: 5\n",
      "Enter the values :1\n",
      "Enter the values :2\n",
      "Enter the values :3\n",
      "Enter the values :4\n",
      "Enter the values :5\n",
      "('1', '4', '2', '5', '3')\n"
     ]
    }
   ],
   "source": [
    "# uesr input in tuple .\n",
    "n = int(input(\"Enter the number of element: \"))\n",
    "my_set = set()\n",
    "for x in range(n):\n",
    "    values = input(\"Enter the values :\")\n",
    "    my_set.add(values)\n",
    "my_tuple = tuple(my_set)\n",
    "print(my_tuple)\n"
   ]
  },
  {
   "cell_type": "code",
   "execution_count": 6,
   "id": "d92cc9d1",
   "metadata": {},
   "outputs": [
    {
     "name": "stdout",
     "output_type": "stream",
     "text": [
      "Enter the number of element: 5\n",
      "Enter the values :4\n",
      "Enter the values :2\n",
      "Enter the values :8\n",
      "Enter the values :1\n",
      "Enter the values :5\n",
      "Original Tuple: ('1', '4', '8', '5', '2')\n",
      "Sorted Tuple (ascending): ('1', '2', '4', '5', '8')\n"
     ]
    }
   ],
   "source": [
    "# Sort the elements of a tuple.\n",
    "n = int(input(\"Enter the number of element: \"))\n",
    "my_set = set()\n",
    "for x in range(n):\n",
    "    values = input(\"Enter the values :\")\n",
    "    my_set.add(values)\n",
    "my_tuple = tuple(my_set)\n",
    "print(\"Original Tuple:\",my_tuple)\n",
    "sort_tuple = tuple(sorted(my_tuple))\n",
    "print(\"Sorted Tuple (ascending):\",sort_tuple)"
   ]
  },
  {
   "cell_type": "code",
   "execution_count": 12,
   "id": "7dca433b",
   "metadata": {},
   "outputs": [
    {
     "name": "stdout",
     "output_type": "stream",
     "text": [
      "Original tuple: (1, 2, 3, 4, 5)\n",
      "Convert tuples in sting: ('1', '2', '3', '4', '5')\n"
     ]
    }
   ],
   "source": [
    "# Convert a tuple of integers to a tuple of strings.\n",
    "original_tuple = (1,2,3,4,5)\n",
    "\n",
    "string_tuple = tuple(str(i) for i in original_tuple)\n",
    "print(\"Original tuple:\",original_tuple)\n",
    "print(\"Convert tuples in sting:\",string_tuple)"
   ]
  },
  {
   "cell_type": "code",
   "execution_count": 14,
   "id": "ebf6f9ac",
   "metadata": {},
   "outputs": [
    {
     "name": "stdout",
     "output_type": "stream",
     "text": [
      "Original tuple: ('1', '2', '3', '4', '5')\n",
      "Convert tuples in integers: (1, 2, 3, 4, 5)\n"
     ]
    }
   ],
   "source": [
    "# Convert a tuple of strings to a tuple of integers.\n",
    "original_tuple = ('1','2','3','4','5')\n",
    "\n",
    "string_tuple = tuple(int(i) for i in original_tuple)\n",
    "print(\"Original tuple:\",original_tuple)\n",
    "print(\"Convert tuples in integers:\",string_tuple)"
   ]
  },
  {
   "cell_type": "code",
   "execution_count": 15,
   "id": "af2adbcf",
   "metadata": {},
   "outputs": [
    {
     "name": "stdout",
     "output_type": "stream",
     "text": [
      "merged tuple: (1, 2, 3, 'a', 'b', 'c')\n"
     ]
    }
   ],
   "source": [
    "# Merge two tuples.\n",
    "tuple1 = (1,2,3)\n",
    "tuple2 = ('a','b','c')\n",
    "merge_tuple = tuple1 + tuple2\n",
    "print(\"merged tuple:\",merge_tuple)"
   ]
  },
  {
   "cell_type": "code",
   "execution_count": 2,
   "id": "8d5dd6fd",
   "metadata": {},
   "outputs": [
    {
     "name": "stdout",
     "output_type": "stream",
     "text": [
      "The first 5 prime number are : (2, 3, 5, 7, 11)\n"
     ]
    }
   ],
   "source": [
    "# Create a tuple of the first 5 prime numbers.\n",
    "\n",
    "def is_Prime(num):\n",
    "    if num <= 1:\n",
    "        return False\n",
    "    for i in range(2,int(num**0.5) +1 ):\n",
    "            return False\n",
    "    return True\n",
    "\n",
    "def n_primes(n):\n",
    "    primes = []\n",
    "    num = 2\n",
    "    while len(primes) < n:\n",
    "        if is_Prime(num):\n",
    "            primes.append(num)\n",
    "        num += 1\n",
    "    return tuple(primes)\n",
    "\n",
    "five_number = n_primes(5)\n",
    "print(\"The first 5 prime number are :\",five_number)"
   ]
  },
  {
   "cell_type": "code",
   "execution_count": 1,
   "id": "04211b6f",
   "metadata": {},
   "outputs": [
    {
     "name": "stdout",
     "output_type": "stream",
     "text": [
      "(1, 2, 3, 4, 5, 6, 7, 8)\n"
     ]
    }
   ],
   "source": [
    "# Flatten a nested tuple.\n",
    "def flatten_tuple(nested_tuple):\n",
    "    flat_list = []\n",
    "    for x in nested_tuple:\n",
    "        if isinstance(x, tuple):\n",
    "            flat_list.extend(flatten_tuple(x))\n",
    "        else:\n",
    "            flat_list.append(x)\n",
    "    return tuple(flat_list)\n",
    "\n",
    "nested_tuple = (1,(2,3),(4,(5,6),7),8)\n",
    "flattened_tuple = flatten_tuple(nested_tuple)\n",
    "print(flattened_tuple)"
   ]
  },
  {
   "cell_type": "code",
   "execution_count": 10,
   "id": "4f74e789",
   "metadata": {},
   "outputs": [
    {
     "name": "stdout",
     "output_type": "stream",
     "text": [
      "Enter the value :1,2,3,2,1\n",
      "The tuple is palindrome. (1, 2, 3, 2, 1)\n"
     ]
    }
   ],
   "source": [
    "# Check if a tuple is a palindrome.\n",
    "tup = eval(input(\"Enter the value :\"))\n",
    "new_tuple = tup[::-1]\n",
    "if tup == new_tuple:\n",
    "    print(\"The tuple is palindrome.\", new_tuple)\n",
    "else:\n",
    "    print(\"The tuple is  not palindrome.\",new_tuple)"
   ]
  },
  {
   "cell_type": "code",
   "execution_count": 5,
   "id": "70b499c8",
   "metadata": {},
   "outputs": [
    {
     "name": "stdout",
     "output_type": "stream",
     "text": [
      "(1, 4, 9, 16, 25)\n"
     ]
    }
   ],
   "source": [
    "# Create a tuple of squares of numbers from 1 to 5.\n",
    "tuple_list = tuple(x*x for x in range(1,5+1))\n",
    "print(tuple_list)"
   ]
  },
  {
   "cell_type": "code",
   "execution_count": 2,
   "id": "39a49c2f",
   "metadata": {},
   "outputs": [
    {
     "name": "stdout",
     "output_type": "stream",
     "text": [
      "Enter the input :(1,2,3,4,5,6,7,8,9,10)\n",
      "Original tuple : (1, 2, 3, 4, 5, 6, 7, 8, 9, 10)\n",
      "Filter out off all even number : (2, 4, 6, 8, 10)\n"
     ]
    }
   ],
   "source": [
    "# Filter out all even numbers from a tuple.\n",
    "original_tuple = eval(input(\"Enter the input :\"))\n",
    "filter_out = tuple(x for x in original_tuple if x%2 == 0)\n",
    "print(\"Original tuple :\",original_tuple)\n",
    "print(\"Filter out off all even number :\",filter_out)"
   ]
  },
  {
   "cell_type": "code",
   "execution_count": 5,
   "id": "123cae6f",
   "metadata": {},
   "outputs": [
    {
     "name": "stdout",
     "output_type": "stream",
     "text": [
      "Enter the tuple :(1,2,3,4,5)\n",
      "Before multiply tuple : (1, 2, 3, 4, 5)\n",
      "After multiply tuple : (2, 4, 6, 8, 10)\n"
     ]
    }
   ],
   "source": [
    "# Multiply all elements in a tuple by 2.\n",
    "tup1 = eval(input(\"Enter the tuple :\"))\n",
    "mul_tup = tuple(x*2 for x in tup1)\n",
    "print(\"Before multiply tuple :\",tup1)\n",
    "print(\"After multiply tuple :\",mul_tup)"
   ]
  },
  {
   "cell_type": "code",
   "execution_count": 9,
   "id": "1eeee843",
   "metadata": {},
   "outputs": [
    {
     "name": "stdout",
     "output_type": "stream",
     "text": [
      "Enter the number :10\n",
      "(46, 86, 49, 8, 49, 13, 75, 64, 84, 71)\n"
     ]
    }
   ],
   "source": [
    "# Create a tuple of random numbers.\n",
    "import random\n",
    "n = int(input(\"Enter the number :\"))\n",
    "tup = tuple()\n",
    "for x in range(n):\n",
    "    tup = tup+(random.randint(1,100),)\n",
    "print(tup)"
   ]
  },
  {
   "cell_type": "code",
   "execution_count": 1,
   "id": "0a116f4f",
   "metadata": {},
   "outputs": [
    {
     "name": "stdout",
     "output_type": "stream",
     "text": [
      "Enter the tuple`s values :(1,2,3,4,5)\n",
      "The tuple is sorted .\n"
     ]
    }
   ],
   "source": [
    "# Check if a tuple is sorted.\n",
    "tup = eval(input(\"Enter the tuple`s values :\"))\n",
    "tup1 = (tuple(sorted(tup)))\n",
    "tup2 = tuple(sorted(tup, reverse=True))\n",
    "if tup == tup1 or tup == tup2:\n",
    "    print(\"The tuple is sorted .\")\n",
    "else:\n",
    "    print(\"The tuple is not sorted .\")"
   ]
  },
  {
   "cell_type": "code",
   "execution_count": 2,
   "id": "e4b34332",
   "metadata": {},
   "outputs": [
    {
     "name": "stdout",
     "output_type": "stream",
     "text": [
      "tuple of the first 5 Fibonacci numbers: (0, 1, 1, 2, 3)\n"
     ]
    }
   ],
   "source": [
    "# Create a tuple of the first 5 Fibonacci numbers\n",
    "t = (0,1)\n",
    "for i in range(5-2):\n",
    "    t = t+(t[i]+t[i+1],)\n",
    "print(\"tuple of the first 5 Fibonacci numbers:\",t)"
   ]
  },
  {
   "cell_type": "code",
   "execution_count": 3,
   "id": "cd9ad65e",
   "metadata": {},
   "outputs": [
    {
     "name": "stdout",
     "output_type": "stream",
     "text": [
      "Enter the tuple value`s :2,3,4,5,6,7,8,9,0\n",
      "Enter the number the number of possition which want left shift:4\n",
      "Input tuple : (2, 3, 4, 5, 6, 7, 8, 9, 0)\n",
      "Output tuple : (6, 7, 8, 9, 0, 2, 3, 4, 5)\n"
     ]
    }
   ],
   "source": [
    "# Rotate a tuple to the left by `n` positions.\n",
    "tup = eval(input(\"Enter the tuple value`s :\"))\n",
    "l = list(tup)\n",
    "n = int(input(\"Enter the number the number of possition which want left shift:\"))\n",
    "for i in range(n):\n",
    "    for j in range(len(l)-1,0,-1):\n",
    "        temp = l[0]\n",
    "        l[0] = l[j]\n",
    "        l[j] = temp\n",
    "tup1 = tuple(l)\n",
    "print(\"Input tuple :\",tup)\n",
    "print(\"Output tuple :\",tup1)"
   ]
  },
  {
   "cell_type": "code",
   "execution_count": 2,
   "id": "f55ca7b9",
   "metadata": {},
   "outputs": [
    {
     "name": "stdout",
     "output_type": "stream",
     "text": [
      "Enter the tuple value`s :2,3,4,5,6,7,8,9,0\n",
      "Enter the number the number of possition which want left shift:4\n",
      "Input tuple : (2, 3, 4, 5, 6, 7, 8, 9, 0)\n",
      "Output tuple : (7, 8, 9, 0, 2, 3, 4, 5, 6)\n"
     ]
    }
   ],
   "source": [
    "# Rotate a tuple to the right by `n` positions.\n",
    "tup = eval(input(\"Enter the tuple value`s :\"))\n",
    "l = list(tup)\n",
    "n = int(input(\"Enter the number the number of possition which want left shift:\"))\n",
    "for i in range(n):\n",
    "    for j in range(len(l)):\n",
    "        temp = l[0]\n",
    "        l[0] = l[j]\n",
    "        l[j] = temp\n",
    "tup1 = tuple(l)\n",
    "print(\"Input tuple :\",tup)\n",
    "print(\"Output tuple :\",tup1)"
   ]
  },
  {
   "cell_type": "code",
   "execution_count": 5,
   "id": "9a2c5e29",
   "metadata": {},
   "outputs": [
    {
     "name": "stdout",
     "output_type": "stream",
     "text": [
      "Enter the number of element:5\n",
      "Enter the values is :1\n",
      "Enter the values is :2\n",
      "Enter the values is :DBMS\n",
      "Enter the values is :JAVA\n",
      "Enter the values is :PYTHON\n",
      "Tuple is : (1, 2, 'DBMS', 'JAVA', 'PYTHON')\n"
     ]
    }
   ],
   "source": [
    "# Create a tuple from user input.\n",
    "n = int(input(\"Enter the number of element:\"))\n",
    "tup = tuple()\n",
    "for _ in range(n):\n",
    "    value = input(\"Enter the values is :\")\n",
    "    if value.isdigit():\n",
    "        tup = tup + (int(value),)\n",
    "    else:\n",
    "        tup = tup + (value,)\n",
    "print(\"Tuple is :\",tup)"
   ]
  },
  {
   "cell_type": "code",
   "execution_count": 11,
   "id": "95e0cc8a",
   "metadata": {},
   "outputs": [
    {
     "name": "stdout",
     "output_type": "stream",
     "text": [
      "Enter the element of tuple :1,2,3,4,5,6,7,8,9\n",
      "Enter the starting index:2\n",
      "Enter the ending index :7\n",
      "Input tuple : (1, 2, 3, 4, 5, 6, 7, 8, 9)\n",
      "Output tuple : (1, 2, 8, 4, 5, 6, 7, 3, 9)\n"
     ]
    }
   ],
   "source": [
    "# Swap two elements in a tuple.\n",
    "tup = eval(input(\"Enter the element of tuple :\"))\n",
    "l = list(tup)\n",
    "a = int(input(\"Enter the starting index:\"))\n",
    "b = int(input(\"Enter the ending index :\"))\n",
    "if 0<=a<len(l) or 0<=b<=len(l):\n",
    "    temp = l[a]\n",
    "    l[a] = l[b]\n",
    "    l[b] = temp\n",
    "else:\n",
    "    print(\"Index out of range :\")\n",
    "tup1 = tuple(l)    \n",
    "print(\"Input tuple :\",tup)\n",
    "print(\"Output tuple :\",tup1)"
   ]
  },
  {
   "cell_type": "code",
   "execution_count": null,
   "id": "aa4d1eab",
   "metadata": {},
   "outputs": [],
   "source": []
  }
 ],
 "metadata": {
  "kernelspec": {
   "display_name": "Python 3 (ipykernel)",
   "language": "python",
   "name": "python3"
  },
  "language_info": {
   "codemirror_mode": {
    "name": "ipython",
    "version": 3
   },
   "file_extension": ".py",
   "mimetype": "text/x-python",
   "name": "python",
   "nbconvert_exporter": "python",
   "pygments_lexer": "ipython3",
   "version": "3.11.4"
  }
 },
 "nbformat": 4,
 "nbformat_minor": 5
}
