{
 "cells": [
  {
   "cell_type": "code",
   "execution_count": 2,
   "id": "63426118",
   "metadata": {},
   "outputs": [
    {
     "name": "stdout",
     "output_type": "stream",
     "text": [
      "Enter the string : the quick brown fox jump over the lazy dog.\n",
      "The longest word is : quick\n",
      "The max length is : 5\n"
     ]
    }
   ],
   "source": [
    "# Find the longest word in a string.\n",
    "n = input(\"Enter the string : \")\n",
    "max_len = 0\n",
    "longest_word = ''\n",
    "word = n.split()\n",
    "\n",
    "for x in word:\n",
    "    if len(x) > max_len:\n",
    "        max_len = len(x)\n",
    "        longest_word = x\n",
    "\n",
    "print(\"The longest word is :\",longest_word)\n",
    "print(\"The max length is :\",max_len)"
   ]
  },
  {
   "cell_type": "code",
   "execution_count": 5,
   "id": "4cf65f43",
   "metadata": {},
   "outputs": [
    {
     "name": "stdout",
     "output_type": "stream",
     "text": [
      "Enter the string : the quick brown fox jump over the lazy dog.\n",
      "The longest word is : the\n",
      "The max length is : 3\n"
     ]
    }
   ],
   "source": [
    "# Find the shortest word in a string.\n",
    "n = input(\"Enter the string : \")\n",
    "min_len = float('inf')\n",
    "shortest_word = None\n",
    "word = n.split()\n",
    "\n",
    "for x in word:\n",
    "    if len(x) < min_len:\n",
    "        min_len = len(x)\n",
    "        shortest_word = x\n",
    "\n",
    "print(\"The longest word is :\",shortest_word)\n",
    "print(\"The max length is :\",min_len)"
   ]
  },
  {
   "cell_type": "code",
   "execution_count": 8,
   "id": "d771b575",
   "metadata": {},
   "outputs": [
    {
     "name": "stdout",
     "output_type": "stream",
     "text": [
      "Enter the string : the quick brown fox jump over the lazy dog.\n",
      "The string is not alphanumeric !!\n"
     ]
    }
   ],
   "source": [
    "# Check if a string is alphanumeric.\n",
    "text = input(\"Enter the string : \")\n",
    "if text.isalnum():\n",
    "    print(\"The string is alphanumeric .\")\n",
    "else:\n",
    "    print(\"The string is not alphanumeric !!\")"
   ]
  },
  {
   "cell_type": "code",
   "execution_count": 11,
   "id": "651f3e32",
   "metadata": {},
   "outputs": [
    {
     "name": "stdout",
     "output_type": "stream",
     "text": [
      "Enter the string : Hello123\n",
      "The digit in string is : ['1', '2', '3']\n"
     ]
    }
   ],
   "source": [
    "# Extract all digits from a string.\n",
    "text = input(\"Enter the string : \")\n",
    "l = []\n",
    "for x in text:\n",
    "    if x.isdigit():\n",
    "        l.append(x)\n",
    "\n",
    "print(\"The digit in string is :\",l)"
   ]
  },
  {
   "cell_type": "code",
   "execution_count": 13,
   "id": "e0f2b255",
   "metadata": {},
   "outputs": [
    {
     "name": "stdout",
     "output_type": "stream",
     "text": [
      "Enter the string : Hello123\n",
      "The aplha in string is : ['H', 'e', 'l', 'l', 'o']\n"
     ]
    }
   ],
   "source": [
    "# Extract all alpha from a string.\n",
    "text = input(\"Enter the string :\")\n",
    "l = []\n",
    "for x in text:\n",
    "    if x.isalpha():\n",
    "        l.append(x)\n",
    "        \n",
    "print(\"The aplha in string is :\",l)"
   ]
  },
  {
   "cell_type": "code",
   "execution_count": 14,
   "id": "b88f3d6b",
   "metadata": {},
   "outputs": [
    {
     "name": "stdout",
     "output_type": "stream",
     "text": [
      "Enter the string :\"Hello World\"\n",
      "\"hELLO wORLD\"\n"
     ]
    }
   ],
   "source": [
    "# Swap the case of each character in a string.\n",
    "text = input(\"Enter the string :\")\n",
    "swap_string = text.swapcase()\n",
    "print(swap_string)"
   ]
  },
  {
   "cell_type": "code",
   "execution_count": 17,
   "id": "6ada3420",
   "metadata": {},
   "outputs": [
    {
     "name": "stdout",
     "output_type": "stream",
     "text": [
      "Please ! Enter the valid emali address :dolaikingsuk@gmail.com\n",
      "dolaikingsuk\n"
     ]
    }
   ],
   "source": [
    "# Extract the username from an email address string.\n",
    "email = input(\"Please ! Enter the valid emali address :\")\n",
    "name = email.split('@')[0]\n",
    "print(name)"
   ]
  },
  {
   "cell_type": "code",
   "execution_count": 18,
   "id": "7fca4fd7",
   "metadata": {},
   "outputs": [
    {
     "name": "stdout",
     "output_type": "stream",
     "text": [
      "Please ! Enter the valid emali address :dolaikingsuk@gmail.com\n",
      "gmail.com\n"
     ]
    }
   ],
   "source": [
    "# Extract the domain name from an email address string.\n",
    "email = input(\"Please ! Enter the valid emali address :\")\n",
    "domain = email.split('@')[1]\n",
    "print(domain)"
   ]
  },
  {
   "cell_type": "code",
   "execution_count": 4,
   "id": "bc65f07c",
   "metadata": {},
   "outputs": [
    {
     "name": "stdout",
     "output_type": "stream",
     "text": [
      "Enter the string with multiple spaces : This    is   a  string   with  multiple    spaces.\n",
      "After remove extra space :  This is a string with multiple spaces.\n"
     ]
    }
   ],
   "source": [
    "# Replace multiple spaces in a string with a single space .\n",
    "text = input(\"Enter the string with multiple spaces : \")\n",
    "simple_text = ' '.join(text.split())\n",
    "print(\"After remove extra space : \",simple_text)"
   ]
  },
  {
   "cell_type": "code",
   "execution_count": 11,
   "id": "74741296",
   "metadata": {},
   "outputs": [
    {
     "name": "stdout",
     "output_type": "stream",
     "text": [
      "Please !! Enter the valid url : https://www.google.com\n",
      "https://www.google.com is a valid URL !!\n"
     ]
    }
   ],
   "source": [
    "# Check if a string is a valid URL.\n",
    "import re\n",
    "\n",
    "def is_valid_url(url):\n",
    "    url_pattern = re.compile(r'^https?://[A-Za-z0-9.-]+')\n",
    "    return bool(url_pattern.match(url))\n",
    "\n",
    "\n",
    "url = input(\"Please !! Enter the valid url : \")\n",
    "if is_valid_url(url):\n",
    "    print(f\"{url} is a valid URL !!\")\n",
    "else:\n",
    "    print(f\"{url} is a not valid URL !!\")"
   ]
  },
  {
   "cell_type": "code",
   "execution_count": 2,
   "id": "ff7e0a5f",
   "metadata": {},
   "outputs": [
    {
     "name": "stdout",
     "output_type": "stream",
     "text": [
      "Enter the url : https://www.google.com\n",
      "The protocol of the URL is https.\n"
     ]
    }
   ],
   "source": [
    "# Extract the protocol (http or https) from a URL string.\n",
    "url = input(\"Enter the url : \")\n",
    "\n",
    "if url.startswith(\"http://\"):\n",
    "    protocol = \"http\"\n",
    "elif url.startswith(\"https://\"):\n",
    "    protocol = \"https\"\n",
    "else:\n",
    "    protocol = None\n",
    "\n",
    "print(f\"The protocol of the URL is {protocol}.\")"
   ]
  },
  {
   "cell_type": "code",
   "execution_count": 5,
   "id": "fc72bfab",
   "metadata": {},
   "outputs": [
    {
     "name": "stdout",
     "output_type": "stream",
     "text": [
      "Enter the string input  : The quick brown fox jumps over the lazy dog. The dog barks, and the fox runs away.\n",
      "The most frequent word is : The\n"
     ]
    }
   ],
   "source": [
    "# Find the most frequent word in a string.\n",
    "\n",
    "def MostFrequent(string):\n",
    "    words = string.split()\n",
    "    \n",
    "    word_count = {}\n",
    "    for x in words:\n",
    "        word_count[x] = word_count.get(x, 0) + 1\n",
    "    frequent = max(word_count, key=word_count.get)\n",
    "    return frequent\n",
    "\n",
    "\n",
    "string = input(\"Enter the string input  : \")\n",
    "result = MostFrequent(string)\n",
    "print(f\"The most frequent word is : {result}\")\n"
   ]
  }
 ],
 "metadata": {
  "kernelspec": {
   "display_name": "Python 3 (ipykernel)",
   "language": "python",
   "name": "python3"
  },
  "language_info": {
   "codemirror_mode": {
    "name": "ipython",
    "version": 3
   },
   "file_extension": ".py",
   "mimetype": "text/x-python",
   "name": "python",
   "nbconvert_exporter": "python",
   "pygments_lexer": "ipython3",
   "version": "3.11.4"
  }
 },
 "nbformat": 4,
 "nbformat_minor": 5
}
