{
 "cells": [
  {
   "cell_type": "code",
   "execution_count": 3,
   "id": "fda119b5",
   "metadata": {},
   "outputs": [
    {
     "name": "stdout",
     "output_type": "stream",
     "text": [
      "Enter the number :12\n",
      "12 is possitive number\n"
     ]
    }
   ],
   "source": [
    "#only possitive or negative number check:\n",
    "num =eval( input(\"Enter the number :\"))\n",
    "if(num > 0):\n",
    "    print(f\"{num} is possitive number\")\n",
    "else:\n",
    "    print(f\"{num} is negative number\")"
   ]
  },
  {
   "cell_type": "code",
   "execution_count": 8,
   "id": "78595530",
   "metadata": {},
   "outputs": [
    {
     "name": "stdout",
     "output_type": "stream",
     "text": [
      "Enter your age:18\n",
      " age 18 years is elegibel for vote.\n"
     ]
    }
   ],
   "source": [
    "#vote elegibel check:\n",
    "age = int(input(\"Enter your age:\"))\n",
    "if(age >= 18):\n",
    "    print(f\" age {age} years is elegibel for vote.\")\n",
    "else:\n",
    "    print(f\"age {age} years is not elegibel for vote!\")"
   ]
  },
  {
   "cell_type": "code",
   "execution_count": 11,
   "id": "e9eba6ca",
   "metadata": {},
   "outputs": [
    {
     "name": "stdout",
     "output_type": "stream",
     "text": [
      "Enter the 1st number :71\n",
      "Enter the 2nd number :69\n",
      "71 is grater than 69\n"
     ]
    }
   ],
   "source": [
    "#Maximum two number:\n",
    "num1 = eval(input(\"Enter the 1st number :\"))\n",
    "num2 = eval(input(\"Enter the 2nd number :\"))\n",
    "if(num1 > num2):\n",
    "    print(f\"{num1} is grater than {num2}\")\n",
    "else:\n",
    "    print(f\"{num2} is grater than {num1}\")"
   ]
  },
  {
   "cell_type": "code",
   "execution_count": 16,
   "id": "d76637f7",
   "metadata": {},
   "outputs": [
    {
     "name": "stdout",
     "output_type": "stream",
     "text": [
      "Enter the year :2023\n",
      "2023 is not leap year!\n"
     ]
    }
   ],
   "source": [
    "#check the year is leap year or not:\n",
    "year = eval(input(\"Enter the year :\"))\n",
    "if(year%4 == 0 or year%400 == 0 and year%100 != 0):\n",
    "    print(f\"{year} is leap year.\")\n",
    "else:\n",
    "    print(f\"{year} is not leap year!\")"
   ]
  },
  {
   "cell_type": "code",
   "execution_count": 21,
   "id": "c30946d2",
   "metadata": {},
   "outputs": [
    {
     "name": "stdout",
     "output_type": "stream",
     "text": [
      "Enter the number :3\n",
      "3 is odd!\n"
     ]
    }
   ],
   "source": [
    "#number even or odd check:\n",
    "num = eval(input(\"Enter the number :\"))\n",
    "if(num%2 == 0):\n",
    "    print(f\"{num} is even.\")\n",
    "else:\n",
    "    print(f\"{num} is odd!\")"
   ]
  },
  {
   "cell_type": "code",
   "execution_count": 31,
   "id": "d24fe155",
   "metadata": {},
   "outputs": [
    {
     "name": "stdout",
     "output_type": "stream",
     "text": [
      "Enter the number :-5\n",
      "The absulute number is 5\n"
     ]
    }
   ],
   "source": [
    "#calulate absulute valu:\n",
    "num = eval(input(\"Enter the number :\"))\n",
    "if(num >= 0):\n",
    "    result = num\n",
    "else:\n",
    "    result = -num\n",
    "\n",
    "print(\"The absulute number is\",result)"
   ]
  },
  {
   "cell_type": "code",
   "execution_count": 32,
   "id": "ad3715c5",
   "metadata": {},
   "outputs": [
    {
     "name": "stdout",
     "output_type": "stream",
     "text": [
      "Enter the 1st number :12\n",
      "Enter the 2nd number :45\n",
      "Enter the 3rd number :37\n",
      "The largest number is  45\n"
     ]
    }
   ],
   "source": [
    "#largest check among three number:\n",
    "num1 = int(input(\"Enter the 1st number :\"))\n",
    "num2 = int(input(\"Enter the 2nd number :\"))\n",
    "num3 = int(input(\"Enter the 3rd number :\"))\n",
    "if(num1 > num2 and num1 > num3):\n",
    "    largest = num1\n",
    "elif(num2 > num1 and num2 > num3):\n",
    "    largest = num2\n",
    "else:\n",
    "    largest = num3\n",
    "print(\"The largest number is \",largest)"
   ]
  },
  {
   "cell_type": "code",
   "execution_count": 5,
   "id": "a64a6f90",
   "metadata": {},
   "outputs": [
    {
     "name": "stdout",
     "output_type": "stream",
     "text": [
      "Enter the input :12321\n",
      "the string is pallindrom : 12321\n"
     ]
    }
   ],
   "source": [
    "#string pallindrom:\n",
    "string = (input(\"Enter the input :\"))\n",
    "if(string == string[::-1]):\n",
    "    print(\"the string is pallindrom :\",string[::-1])\n",
    "else:\n",
    "    print(\"the string is not pallindrom :\",string)"
   ]
  },
  {
   "cell_type": "code",
   "execution_count": 7,
   "id": "359a96ea",
   "metadata": {},
   "outputs": [
    {
     "name": "stdout",
     "output_type": "stream",
     "text": [
      "Enter the obtain marks :91.5\n",
      "The student's  grade is A!\n"
     ]
    }
   ],
   "source": [
    "#student grade calculate:\n",
    "stu_mark = float(input(\"Enter the obtain marks :\"))\n",
    "\n",
    "if(stu_mark >= 90):\n",
    "    grade = 'A'\n",
    "elif(stu_mark >= 70):\n",
    "    grade = 'B'\n",
    "elif(stu_mark >= 50):\n",
    "    grade ='C'\n",
    "elif(stu_mark >= 30):\n",
    "    grade ='D'\n",
    "else:\n",
    "    grade ='F'\n",
    "\n",
    "print(f\"The student's  grade is {grade}!\")"
   ]
  }
 ],
 "metadata": {
  "kernelspec": {
   "display_name": "Python 3 (ipykernel)",
   "language": "python",
   "name": "python3"
  },
  "language_info": {
   "codemirror_mode": {
    "name": "ipython",
    "version": 3
   },
   "file_extension": ".py",
   "mimetype": "text/x-python",
   "name": "python",
   "nbconvert_exporter": "python",
   "pygments_lexer": "ipython3",
   "version": "3.11.4"
  }
 },
 "nbformat": 4,
 "nbformat_minor": 5
}
