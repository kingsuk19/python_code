{
 "cells": [
  {
   "cell_type": "code",
   "execution_count": 1,
   "id": "650bcd98",
   "metadata": {},
   "outputs": [
    {
     "name": "stdout",
     "output_type": "stream",
     "text": [
      "python\n"
     ]
    }
   ],
   "source": [
    "print(\"python\")"
   ]
  },
  {
   "cell_type": "code",
   "execution_count": 8,
   "id": "a5f6fd83",
   "metadata": {},
   "outputs": [
    {
     "name": "stdout",
     "output_type": "stream",
     "text": [
      "enter the 1st number :5\n",
      "enter the 2nd number :10\n",
      "15\n"
     ]
    }
   ],
   "source": [
    "a=int(input(\"enter the 1st number :\"))\n",
    "b=int(input(\"enter the 2nd number :\"))\n",
    "print(a+b)"
   ]
  },
  {
   "cell_type": "code",
   "execution_count": 3,
   "id": "cf2828f8",
   "metadata": {},
   "outputs": [
    {
     "name": "stdout",
     "output_type": "stream",
     "text": [
      "enter 1st number :10\n",
      "enter 2nd number :13\n",
      "the number is a= 10 b= 13\n",
      "the number is a= 13 b= 10\n"
     ]
    }
   ],
   "source": [
    "a=input(\"enter 1st number :\")\n",
    "b=input(\"enter 2nd number :\")\n",
    "print(\"the number is a=\",a,\"b=\",b)\n",
    "c=a\n",
    "a=b\n",
    "b=c\n",
    "print(\"the number is a=\",a,\"b=\",b)"
   ]
  },
  {
   "cell_type": "code",
   "execution_count": 10,
   "id": "dfb59b8b",
   "metadata": {},
   "outputs": [
    {
     "name": "stdout",
     "output_type": "stream",
     "text": [
      "enter 1st number :10\n",
      "enter 2nd number :13\n",
      "the number is a= 10 b= 13\n",
      "the number is a= 13 b= 10\n"
     ]
    }
   ],
   "source": [
    "a=int(input(\"enter 1st number :\"))\n",
    "b=int(input(\"enter 2nd number :\"))\n",
    "print(\"the number is a=\",a,\"b=\",b)\n",
    "a=a+b\n",
    "b=a-b\n",
    "a=a-b\n",
    "print(\"the number is a=\",a,\"b=\",b)"
   ]
  },
  {
   "cell_type": "code",
   "execution_count": 11,
   "id": "55db7abb",
   "metadata": {},
   "outputs": [
    {
     "name": "stdout",
     "output_type": "stream",
     "text": [
      "enter 1st number :20\n",
      "enter 2nd number :25\n",
      "the number is a= 20 b= 25\n",
      "the number is a= 25 b= 20\n"
     ]
    }
   ],
   "source": [
    "a=input(\"enter 1st number :\")\n",
    "b=input(\"enter 2nd number :\")\n",
    "print(\"the number is a=\",a,\"b=\",b)\n",
    "a,b=b,a\n",
    "print(\"the number is a=\",a,\"b=\",b)"
   ]
  },
  {
   "cell_type": "code",
   "execution_count": 18,
   "id": "b9f87265",
   "metadata": {},
   "outputs": [
    {
     "name": "stdout",
     "output_type": "stream",
     "text": [
      "enter the length of the rectangel :10\n",
      "enter the width of the rectangel :30\n",
      "the area of rectangel : 300\n",
      "the perimeter of rectangel : 80\n"
     ]
    }
   ],
   "source": [
    "l=int(input(\"enter the length of the rectangel :\"))\n",
    "w=int(input(\"enter the width of the rectangel :\"))\n",
    "area = l * w\n",
    "perimeter = 2*(l + w)\n",
    "print(\"the area of rectangel :\",area)\n",
    "print(\"the perimeter of rectangel :\",perimeter)\n"
   ]
  },
  {
   "cell_type": "code",
   "execution_count": 22,
   "id": "c219dc55",
   "metadata": {},
   "outputs": [
    {
     "name": "stdout",
     "output_type": "stream",
     "text": [
      "enter the celcious temperature :36\n",
      "the fahrenheit temperature is : 96.8\n"
     ]
    }
   ],
   "source": [
    "c = int(input(\"enter the celcious temperature :\"))\n",
    "f = (c * (9/5)) + 32\n",
    "print(\"the fahrenheit temperature is :\",f)"
   ]
  },
  {
   "cell_type": "code",
   "execution_count": 24,
   "id": "f8046483",
   "metadata": {},
   "outputs": [
    {
     "name": "stdout",
     "output_type": "stream",
     "text": [
      "Enter the sentence :modi is the boss\n",
      "the length of sentence = 16\n"
     ]
    }
   ],
   "source": [
    "string = input(\"Enter the sentence :\")\n",
    "length = len(string)\n",
    "print(\"the length of sentence =\",length)"
   ]
  },
  {
   "cell_type": "code",
   "execution_count": 42,
   "id": "21efbf95",
   "metadata": {},
   "outputs": [
    {
     "name": "stdout",
     "output_type": "stream",
     "text": [
      "Enter the sentence :education\n",
      "the vowle in word: 5\n"
     ]
    }
   ],
   "source": [
    "word = input(\"Enter the sentence :\")\n",
    "count = 0\n",
    "for s in word:\n",
    "   if(s=='a' or s=='e' or s=='i' or s=='o' or s=='u' or s=='A' or s=='E' or s=='I' or s=='O' or s=='U'):\n",
    "    count += 1\n",
    "    \n",
    "print(\"the vowle in word:\",count)"
   ]
  },
  {
   "cell_type": "code",
   "execution_count": 43,
   "id": "e3eba49f",
   "metadata": {},
   "outputs": [
    {
     "name": "stdout",
     "output_type": "stream",
     "text": [
      "Enter the sentence :Regulation\n",
      "the vowle in word: 5\n"
     ]
    }
   ],
   "source": [
    "word = input(\"Enter the sentence :\")\n",
    "vowle =\"aeiouAEIOU\"\n",
    "count = 0\n",
    "for s in word:\n",
    "    if s in vowle:\n",
    "        count = count+1\n",
    "    \n",
    "print(\"the vowle in word:\",count)"
   ]
  },
  {
   "cell_type": "code",
   "execution_count": 46,
   "id": "b4e2e485",
   "metadata": {},
   "outputs": [
    {
     "name": "stdout",
     "output_type": "stream",
     "text": [
      "Enter the string :hello world\n",
      "the string revrse is : dlrow olleh\n"
     ]
    }
   ],
   "source": [
    "string = input(\"Enter the string :\")\n",
    "print(\"the string revrse is :\",string[::-1])"
   ]
  },
  {
   "cell_type": "code",
   "execution_count": 50,
   "id": "0b0486e1",
   "metadata": {},
   "outputs": [
    {
     "name": "stdout",
     "output_type": "stream",
     "text": [
      "Enter the string :madam\n",
      "the string is pallindrom : madam\n"
     ]
    }
   ],
   "source": [
    "string = input(\"Enter the string :\")\n",
    "rev_string = string[::-1]\n",
    "\n",
    "if (string == rev_string):\n",
    "    print(\"the string is pallindrom :\",rev_string)\n",
    "else:\n",
    "    print(\"the string is not pallindrom :\",string)"
   ]
  },
  {
   "cell_type": "code",
   "execution_count": 52,
   "id": "eb184f4d",
   "metadata": {},
   "outputs": [
    {
     "name": "stdout",
     "output_type": "stream",
     "text": [
      "Enter the string :madam\n",
      "the string is pallindrom : madam\n"
     ]
    }
   ],
   "source": [
    "string = input(\"Enter the string :\")\n",
    "\n",
    "if (string == string[::-1]):\n",
    "    print(\"the string is pallindrom :\",string[::-1])\n",
    "else:\n",
    "    print(\"the string is not pallindrom :\",string)"
   ]
  },
  {
   "cell_type": "code",
   "execution_count": 54,
   "id": "7698bd8b",
   "metadata": {},
   "outputs": [
    {
     "name": "stdout",
     "output_type": "stream",
     "text": [
      "Enter a string: hello world\n",
      "String without space:  helloworld\n"
     ]
    }
   ],
   "source": [
    "string = input(\"Enter a string: \")\n",
    "string = string.replace(\" \",\"\")\n",
    "print(\"String without space: \",string)"
   ]
  }
 ],
 "metadata": {
  "kernelspec": {
   "display_name": "Python 3 (ipykernel)",
   "language": "python",
   "name": "python3"
  },
  "language_info": {
   "codemirror_mode": {
    "name": "ipython",
    "version": 3
   },
   "file_extension": ".py",
   "mimetype": "text/x-python",
   "name": "python",
   "nbconvert_exporter": "python",
   "pygments_lexer": "ipython3",
   "version": "3.11.4"
  }
 },
 "nbformat": 4,
 "nbformat_minor": 5
}
