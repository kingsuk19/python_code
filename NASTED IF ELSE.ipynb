{
 "cells": [
  {
   "cell_type": "code",
   "execution_count": 5,
   "id": "161e803e",
   "metadata": {},
   "outputs": [
    {
     "name": "stdout",
     "output_type": "stream",
     "text": [
      "Enter the 1st number:10\n",
      "Enter the 2nd number:15\n",
      "Enter the 3rd number:11\n",
      "The largest number is : 15\n"
     ]
    }
   ],
   "source": [
    "#largest three number \n",
    "num1 = eval(input(\"Enter the 1st number:\"))\n",
    "num2 = eval(input(\"Enter the 2nd number:\"))\n",
    "num3 = eval(input(\"Enter the 3rd number:\"))\n",
    "\n",
    "if(num1 > num2):\n",
    "    if(num1 > num3):\n",
    "        largest = num1\n",
    "    else:\n",
    "        largest = num3\n",
    "else:\n",
    "    if(num2 > num3):\n",
    "        largest = num2\n",
    "    else:\n",
    "        largest = num3\n",
    "\n",
    "print(\"The largest number is :\",largest)"
   ]
  },
  {
   "cell_type": "code",
   "execution_count": 6,
   "id": "2feb2617",
   "metadata": {},
   "outputs": [
    {
     "name": "stdout",
     "output_type": "stream",
     "text": [
      "Enter the base of triangel :12\n",
      "Enter the parpandicular of triangel :15\n",
      "Enter the haipotanis of triangel :20\n",
      "The triangal is scalene!\n"
     ]
    }
   ],
   "source": [
    "#triangel check equilateral, isosceles, or scalene\n",
    "base = int(input(\"Enter the base of triangel :\"))\n",
    "parpandicular = int(input(\"Enter the parpandicular of triangel :\"))\n",
    "haipotanis = int(input(\"Enter the haipotanis of triangel :\"))\n",
    "\n",
    "if(base + parpandicular > haipotanis and base + haipotanis > parpandicular and parpandicular + haipotanis > base):\n",
    "    if(base == parpandicular == haipotanis):\n",
    "        print(\"The triangal is equilateral!\")\n",
    "    elif(base == parpandicular and parpandicular == haipotanis and base ==  haipotanis):\n",
    "        print(\"The triangal is isosceles!\")\n",
    "    else:\n",
    "        print(\"The triangal is scalene!\")\n",
    "else:\n",
    "      print(\"The given side lengths do not form a valid triangle.\")"
   ]
  },
  {
   "cell_type": "code",
   "execution_count": 4,
   "id": "e80f0545",
   "metadata": {},
   "outputs": [
    {
     "name": "stdout",
     "output_type": "stream",
     "text": [
      "Enter the year which you can cheeck :2100\n",
      "2100 is not leap year but it is a centuary !\n"
     ]
    }
   ],
   "source": [
    "#year is leap year or not or centuary year\n",
    "year = int(input(\"Enter the year which you can cheeck :\"))\n",
    "\n",
    "if(year % 4 == 0):\n",
    "    if(year % 100 == 0):\n",
    "        if(year % 400 == 0):\n",
    "            print(f\"{year} is leap year!\")\n",
    "        else:\n",
    "             print(f\"{year} is not leap year but it is a centuary !\")\n",
    "    else:\n",
    "          print(f\"{year} is not leap year and not  a centuary !\")\n",
    "else:\n",
    "    print(f\"{year} is not leap year !\")\n"
   ]
  },
  {
   "cell_type": "code",
   "execution_count": 7,
   "id": "ff722f45",
   "metadata": {},
   "outputs": [
    {
     "name": "stdout",
     "output_type": "stream",
     "text": [
      "Enter the number :-5\n",
      "-5 is a negative number !!\n"
     ]
    }
   ],
   "source": [
    "#a number negative,positve or zero\n",
    "num = int(input(\"Enter the number :\"))\n",
    "if( num != 0):\n",
    "    if( num >= 0):\n",
    "        number = 'positive'\n",
    "    else:\n",
    "        number = 'negative'\n",
    "else:\n",
    "    number = 'zero'\n",
    "\n",
    "print(f\"{num} is a {number} number !!\")"
   ]
  },
  {
   "cell_type": "code",
   "execution_count": 12,
   "id": "2fa60baf",
   "metadata": {},
   "outputs": [
    {
     "name": "stdout",
     "output_type": "stream",
     "text": [
      "Enter the age :25\n",
      "The person now in younger not a teenager!!\n"
     ]
    }
   ],
   "source": [
    "#teen ager or not\n",
    "age = eval(input(\"Enter the age :\"))\n",
    "if( age >= 13):\n",
    "    if( age <= 18):\n",
    "        print(\"The person is teenager !\")\n",
    "    else:\n",
    "        print(\"The person now in younger not a teenager!!\")\n",
    "else:\n",
    "    print(\"The person is a child !!!\")"
   ]
  },
  {
   "cell_type": "code",
   "execution_count": 15,
   "id": "b7fe3398",
   "metadata": {},
   "outputs": [
    {
     "name": "stdout",
     "output_type": "stream",
     "text": [
      "Enter the angel:90\n",
      "The angle type is angle is right!!\n"
     ]
    }
   ],
   "source": [
    "#angle check \n",
    "angle = int(input(\"Enter the angel:\"))\n",
    "if(angle > 0 and angle < 180 ):\n",
    "    if(angle == 90):\n",
    "        typ = 'angle is right'\n",
    "    elif(angle > 90):\n",
    "        typ = 'angle is Obtuse'\n",
    "    else:\n",
    "        typ = 'angle is Acute Angle'\n",
    "else:\n",
    "    typ = 'invalid angle'\n",
    "\n",
    "print(f\"The angle type is {typ}!!\")"
   ]
  },
  {
   "cell_type": "code",
   "execution_count": 3,
   "id": "bcf6fccc",
   "metadata": {},
   "outputs": [
    {
     "name": "stdout",
     "output_type": "stream",
     "text": [
      "Enter the value of a :15\n",
      "Enter the value of b :20\n",
      "Enter the value of c :-12\n",
      "The real root are :\n",
      "root1 : 0.4488800353787674\n",
      "root2 : 0.4488800353787674\n"
     ]
    }
   ],
   "source": [
    "#quandratic equation roots find(Ax^2 + Bx + c = 0)\n",
    "import math\n",
    "a = float(input(\"Enter the value of a :\"))\n",
    "b = float(input(\"Enter the value of b :\"))\n",
    "c = float(input(\"Enter the value of c :\"))\n",
    "\n",
    "value = b**2 - 4*a*c\n",
    "\n",
    "if (value > 0):\n",
    "    root1 = (-b + math.sqrt(value)) / (2*a)\n",
    "    root2 = (-b + math.sqrt(value)) / (2*a)\n",
    "    print(\"The real root are :\")\n",
    "    print(\"root1 :\",root1)\n",
    "    print(\"root2 :\",root2)\n",
    "elif(value == 0):\n",
    "    root1 = -b / (2*a)\n",
    "    print(\"One real root is :\")\n",
    "    print(\"root1 :\",root1)\n",
    "else:\n",
    "    real_part = -b / (2*a)\n",
    "    imaginary_part = math.sqrt(abs(value)) / (2*a)\n",
    "    print(\"Two roots are :\")\n",
    "    print(\"root 1 :\",real_part,\"+\",imaginary_part,\"i\")\n",
    "    print(\"root 2 :\",real_part,\"-\",imaginary_part,\"i\")"
   ]
  },
  {
   "cell_type": "code",
   "execution_count": 1,
   "id": "408bce79",
   "metadata": {},
   "outputs": [
    {
     "name": "stdout",
     "output_type": "stream",
     "text": [
      "Enter the days number :7\n",
      "The day of the week is :sunday\n"
     ]
    }
   ],
   "source": [
    "#week of days \n",
    "day_number = int(input(\"Enter the days number :\"))\n",
    "week = [\"monday\",\"tuesday\",\"wednesday\",\"thursday\",\"friday\",\"saturday\",\"sunday\"]\n",
    "if(1 <= day_number <=7):\n",
    "    week = week[day_number - 1]\n",
    "    print(f\"The day of the week is :{week}\")\n",
    "else:\n",
    "    print(\"Invalid input!!\")"
   ]
  },
  {
   "cell_type": "code",
   "execution_count": 14,
   "id": "6d1170be",
   "metadata": {},
   "outputs": [
    {
     "name": "stdout",
     "output_type": "stream",
     "text": [
      "Enter a number (1 for Monday, 2 for Tuesday, etc.): 7\n",
      "The day of the week is: Sunday\n"
     ]
    }
   ],
   "source": [
    "#useing nested if else\n",
    "user_input = int(input(\"Enter a number (1 for Monday, 2 for Tuesday, etc.): \"))\n",
    "\n",
    "if user_input == 1:\n",
    "    day = \"Monday\"\n",
    "elif user_input == 2:\n",
    "    day = \"Tuesday\"\n",
    "elif user_input == 3:\n",
    "    day = \"Wednesday\"\n",
    "elif user_input == 4:\n",
    "    day = \"Thursday\"\n",
    "elif user_input == 5:\n",
    "    day = \"Friday\"\n",
    "elif user_input == 6:\n",
    "    day = \"Saturday\"\n",
    "elif user_input == 7:\n",
    "    day = \"Sunday\"\n",
    "else:\n",
    "    day = \"Invalid input (Enter a number between 1 and 7)\"\n",
    "\n",
    "print(\"The day of the week is:\", day)"
   ]
  },
  {
   "cell_type": "code",
   "execution_count": 11,
   "id": "c67dd8e1",
   "metadata": {},
   "outputs": [
    {
     "name": "stdout",
     "output_type": "stream",
     "text": [
      "Emter the number :5\n",
      "The number is prime.\n"
     ]
    }
   ],
   "source": [
    "#prime number check\n",
    "num = int(input(\"Emter the number :\"))\n",
    "if(num < 2):\n",
    "    print(\"The number is not prime!!\")\n",
    "else:\n",
    "    isPrime = True\n",
    "    for i in range(2,num):\n",
    "        if num % i == 0:\n",
    "            isPrime = False\n",
    "            break\n",
    "    \n",
    "    if isPrime:\n",
    "        print(\"The number is prime.\")\n",
    "    else:\n",
    "        print(\"The number is not prime.\")\n",
    "        "
   ]
  }
 ],
 "metadata": {
  "kernelspec": {
   "display_name": "Python 3 (ipykernel)",
   "language": "python",
   "name": "python3"
  },
  "language_info": {
   "codemirror_mode": {
    "name": "ipython",
    "version": 3
   },
   "file_extension": ".py",
   "mimetype": "text/x-python",
   "name": "python",
   "nbconvert_exporter": "python",
   "pygments_lexer": "ipython3",
   "version": "3.11.4"
  }
 },
 "nbformat": 4,
 "nbformat_minor": 5
}
