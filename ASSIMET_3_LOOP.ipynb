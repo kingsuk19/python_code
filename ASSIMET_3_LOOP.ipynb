{
 "cells": [
  {
   "cell_type": "code",
   "execution_count": 4,
   "id": "68163d2b",
   "metadata": {},
   "outputs": [
    {
     "name": "stdout",
     "output_type": "stream",
     "text": [
      "Enter the  last number :5\n",
      "1\n",
      "2\n",
      "3\n",
      "4\n",
      "5\n"
     ]
    }
   ],
   "source": [
    "# Write a Python program to print numbers from 1 to n using a for loop.\n",
    "n = int(input(\"Enter the  last number :\"))\n",
    "for i in range(1,n+1):\n",
    "    print(i)"
   ]
  },
  {
   "cell_type": "code",
   "execution_count": 10,
   "id": "95db8967",
   "metadata": {},
   "outputs": [
    {
     "name": "stdout",
     "output_type": "stream",
     "text": [
      "Enter the last number :5\n",
      "1\n",
      "3\n",
      "6\n",
      "10\n",
      "15\n"
     ]
    }
   ],
   "source": [
    "# Write a Python program to calculate the sum of all numbers from 1 to n using a for loop.\n",
    "n = int(input(\"Enter the last number :\"))\n",
    "sum = 0\n",
    "for i in range(1,n+1):\n",
    "    sum = sum + i\n",
    "    print(sum)"
   ]
  },
  {
   "cell_type": "code",
   "execution_count": 16,
   "id": "9e0ab25e",
   "metadata": {},
   "outputs": [
    {
     "name": "stdout",
     "output_type": "stream",
     "text": [
      "The product of all elements in the list is: 240000\n"
     ]
    }
   ],
   "source": [
    "# Write a Python program to find the product of all elements in a list using a for loop.\n",
    "num = [10,20,30,40]\n",
    "product = 1\n",
    "for i in num:\n",
    "    product *= i\n",
    "print(\"The product of all elements in the list is:\",product)"
   ]
  },
  {
   "cell_type": "code",
   "execution_count": 24,
   "id": "e6186965",
   "metadata": {},
   "outputs": [
    {
     "name": "stdout",
     "output_type": "stream",
     "text": [
      "Enter the last number :20\n",
      "2\n",
      "4\n",
      "6\n",
      "8\n",
      "10\n",
      "12\n",
      "14\n",
      "16\n",
      "18\n",
      "20\n"
     ]
    }
   ],
   "source": [
    "# Create a Python program that prints all even numbers from 1 to 20 using a for loop.\n",
    "n = int(input(\"Enter the last number :\"))\n",
    "for i in range(1,n+1):\n",
    "    if(i%2 == 0):\n",
    "        print(i)"
   ]
  },
  {
   "cell_type": "code",
   "execution_count": 2,
   "id": "562b72fc",
   "metadata": {},
   "outputs": [
    {
     "name": "stdout",
     "output_type": "stream",
     "text": [
      "Enter the number :5\n",
      "factorial of 5 is : 120\n"
     ]
    }
   ],
   "source": [
    "# Write a Python program that calculates the factorial of a number using a for loop.\n",
    "n = eval(input(\"Enter the number :\"))\n",
    "fact = 1\n",
    "for i in range(1,n+1):\n",
    "    fact = fact*i\n",
    "print(f\"factorial of {n} is :\",fact)\n"
   ]
  },
  {
   "cell_type": "code",
   "execution_count": 5,
   "id": "a261bf69",
   "metadata": {},
   "outputs": [
    {
     "name": "stdout",
     "output_type": "stream",
     "text": [
      "Largest number in list:  70\n"
     ]
    }
   ],
   "source": [
    "# Write a Python program to find the largest number in a list using a for loop.\n",
    "num = [10,20,30,40,70,60,10]\n",
    "for i in num:\n",
    "    largest = max(num)\n",
    "print(\"Largest number in list: \",largest)\n",
    "    "
   ]
  },
  {
   "cell_type": "code",
   "execution_count": 19,
   "id": "9d0dbb9c",
   "metadata": {},
   "outputs": [
    {
     "name": "stdout",
     "output_type": "stream",
     "text": [
      "Enter up to number :5\n",
      "0\n",
      "1\n",
      "1\n",
      "2\n",
      "3\n"
     ]
    }
   ],
   "source": [
    "# Create a Python program that prints the Fibonacci sequence up to a specified limit using a for loop.\n",
    "n = int(input(\"Enter up to number :\"))\n",
    "a , b = 0, 1\n",
    "print(a)\n",
    "for x in range(0,n-1):\n",
    "    a ,b= b,a+b\n",
    "    print(a)\n",
    "    "
   ]
  },
  {
   "cell_type": "code",
   "execution_count": 5,
   "id": "00518c4a",
   "metadata": {},
   "outputs": [
    {
     "name": "stdout",
     "output_type": "stream",
     "text": [
      "Enter the scentence :Hello world\n",
      "Number of vowels are : 3\n"
     ]
    }
   ],
   "source": [
    "# Write a Python program to count the number of vowels in a given string using a for loop.\n",
    "string =input(\"Enter the scentence :\")\n",
    "vowle = 'a','e','i','o','u','A','E','I','O','U'\n",
    "count = 0\n",
    "for x  in string:\n",
    "    if x in vowle:\n",
    "        count = count+1\n",
    "print(\"Number of vowels are :\",count)"
   ]
  },
  {
   "cell_type": "code",
   "execution_count": 13,
   "id": "e6bee0ad",
   "metadata": {},
   "outputs": [
    {
     "name": "stdout",
     "output_type": "stream",
     "text": [
      "Enter number, For the multiplication tabel :5\n",
      "5 * 1 = 5\n",
      "5 * 2 = 10\n",
      "5 * 3 = 15\n",
      "5 * 4 = 20\n",
      "5 * 5 = 25\n",
      "5 * 6 = 30\n",
      "5 * 7 = 35\n",
      "5 * 8 = 40\n",
      "5 * 9 = 45\n",
      "5 * 10 = 50\n"
     ]
    }
   ],
   "source": [
    "# Create a Python program that generates a multiplication table for a given number using a for loop.\n",
    "n = int(input(\"Enter number, For the multiplication tabel :\"))\n",
    "start = 1\n",
    "end = 10\n",
    "for x in range(start,end+1):\n",
    "    multiplication = x*n\n",
    "    print(f\"{n} * {x} = {multiplication}\")"
   ]
  },
  {
   "cell_type": "code",
   "execution_count": 4,
   "id": "3aeaefaa",
   "metadata": {},
   "outputs": [
    {
     "name": "stdout",
     "output_type": "stream",
     "text": [
      "Enter the number of data in list :5\n",
      "Enter the element :1\n",
      "Enter the element :1\n",
      "Enter the element :5\n",
      "Enter the element :2\n",
      "Enter the element :6\n",
      "[1, 1, 5, 2, 6]\n"
     ]
    }
   ],
   "source": [
    "num = int(input(\"Enter the number of data in list :\"))\n",
    "data = []\n",
    "for i in range(num):\n",
    "    element = int(input(\"Enter the element :\"))\n",
    "    data.append(element)\n",
    "print(data)"
   ]
  },
  {
   "cell_type": "code",
   "execution_count": 15,
   "id": "43d870ef",
   "metadata": {},
   "outputs": [
    {
     "name": "stdout",
     "output_type": "stream",
     "text": [
      "Enter the number of data in list :5\n",
      "Enter the element :12\n",
      "Enter the element :78\n",
      "Enter the element :45\n",
      "Enter the element :13\n",
      "Enter the element :96\n",
      "Original List: [12, 78, 45, 13, 96]\n",
      "Reversed List: [96, 13, 45, 78, 12]\n"
     ]
    }
   ],
   "source": [
    "# Write a Python program to reverse a list using a for loop.\n",
    "num = int(input(\"Enter the number of data in list :\"))\n",
    "data_list = []\n",
    "for i in range(num):\n",
    "    element = int(input(\"Enter the element :\"))\n",
    "    data_list.append(element)\n",
    "\n",
    "print(\"Original List:\",data_list)\n",
    "\n",
    "rev_list = []\n",
    "for i in range(len(data_list)-1,-1,-1):\n",
    "    rev_list.append(data_list[i])\n",
    "\n",
    "print(\"Reversed List:\",rev_list)"
   ]
  },
  {
   "cell_type": "code",
   "execution_count": 2,
   "id": "523a320e",
   "metadata": {},
   "outputs": [
    {
     "name": "stdout",
     "output_type": "stream",
     "text": [
      "[1, 2, 4, 5]\n"
     ]
    }
   ],
   "source": [
    "# Write a Python program to find the common elements between two lists using a for loop.\n",
    "list1 = [1,2,3,4,5]\n",
    "list2 = [1,2,6,7,8,5,4]\n",
    "common_list = []\n",
    "for i in list1:\n",
    "    if(i in list2)and(i not in common_list):\n",
    "        common_list.append(i)\n",
    "print(common_list)"
   ]
  },
  {
   "cell_type": "code",
   "execution_count": 8,
   "id": "3470e71f",
   "metadata": {},
   "outputs": [
    {
     "name": "stdout",
     "output_type": "stream",
     "text": [
      "Enter the number of data in list :5\n",
      "Enter the element :12\n",
      "Enter the element :10\n",
      "Enter the element :15\n",
      "Enter the element :14\n",
      "Enter the element :19\n",
      "First list:: [12, 10, 15, 14, 19]\n",
      "Enter the number of data in list :5\n",
      "Enter the element :11\n",
      "Enter the element :12\n",
      "Enter the element :10\n",
      "Enter the element :78\n",
      "Enter the element :21\n",
      "Second list:: [11, 12, 10, 78, 21]\n",
      "Common elements:: [12, 10]\n"
     ]
    }
   ],
   "source": [
    "# Write a Python program to find the common elements between two lists using a for loop with user input.\n",
    "list1 = int(input(\"Enter the number of data in list :\"))\n",
    "list1_data = []\n",
    "for i in range(list1):\n",
    "    element = int(input(\"Enter the element :\"))\n",
    "    list1_data.append(element)\n",
    "print(\"First list::\",list1_data)\n",
    "\n",
    "list2 = int(input(\"Enter the number of data in list :\"))\n",
    "list2_data = []\n",
    "for i in range(list2):\n",
    "    element = int(input(\"Enter the element :\"))\n",
    "    list2_data.append(element)\n",
    "print(\"Second list::\",list2_data)\n",
    "\n",
    "common_list = []\n",
    "for i in list1_data:\n",
    "    if(i in list2_data)and(i not in common_list):\n",
    "        common_list.append(i)\n",
    "print(\"Common elements::\",common_list)"
   ]
  },
  {
   "cell_type": "code",
   "execution_count": 14,
   "id": "2cc59a97",
   "metadata": {},
   "outputs": [
    {
     "name": "stdout",
     "output_type": "stream",
     "text": [
      "Enter the 1st number :2\n",
      "Enter the 2nd number :5\n",
      "The GCD of the two numbers is:: 1\n"
     ]
    }
   ],
   "source": [
    "# Write a Python program to find the GCD (Greatest Common Divisor) of two numbers using a for loop.\n",
    "num1 = int(input(\"Enter the 1st number :\"))\n",
    "num2 = int(input(\"Enter the 2nd number :\"))\n",
    "gcd = 0\n",
    "for i in range(1,min(num1,num2)+1):\n",
    "    if num1 % i == 0 and num2 % i == 0:\n",
    "        gcd = i\n",
    "print(\"The GCD of the two numbers is::\",gcd)"
   ]
  },
  {
   "cell_type": "code",
   "execution_count": 15,
   "id": "65257c3b",
   "metadata": {},
   "outputs": [
    {
     "name": "stdout",
     "output_type": "stream",
     "text": [
      "Enter the string :maddam\n",
      "the string is pallindrom : maddam\n"
     ]
    }
   ],
   "source": [
    "# Create a Python program that checks if a string is a palindrome using a for loop.\n",
    "string = input(\"Enter the string :\")\n",
    "\n",
    "if (string == string[::-1]):\n",
    "    print(\"the string is pallindrom :\",string[::-1])\n",
    "else:\n",
    "    print(\"the string is not pallindrom :\",string)"
   ]
  },
  {
   "cell_type": "code",
   "execution_count": 19,
   "id": "4a4d8b02",
   "metadata": {},
   "outputs": [
    {
     "name": "stdout",
     "output_type": "stream",
     "text": [
      "Enter the sentence :kaka gari asta chalao\n",
      "The number of words in the sentence is:: 4\n"
     ]
    }
   ],
   "source": [
    "# Create a Python program that counts the number of words in a sentence using a for loop.\n",
    "sentence = input(\"Enter the sentence :\")\n",
    "count = 0\n",
    "word = sentence.split()\n",
    "for i in word:\n",
    "    count = count + 1\n",
    "    \n",
    "print(\"The number of words in the sentence is::\",count)"
   ]
  },
  {
   "cell_type": "code",
   "execution_count": 26,
   "id": "9f3380f3",
   "metadata": {},
   "outputs": [
    {
     "name": "stdout",
     "output_type": "stream",
     "text": [
      "Enter the range of sum :50\n",
      "1 to 50 Sum of all odd number::  625\n"
     ]
    }
   ],
   "source": [
    "# Write a Python program to find the sum of all odd numbers from 1 to 50 using a for loop.\n",
    "n = int(input(\"Enter the range of sum :\"))\n",
    "addition = 0\n",
    "for x in range(1,n+1):\n",
    "    if(x%2 != 0):\n",
    "        addition = addition + x\n",
    "print(f\"1 to {n} Sum of all odd number:: \",addition)"
   ]
  },
  {
   "cell_type": "code",
   "execution_count": 38,
   "id": "d4eec847",
   "metadata": {},
   "outputs": [
    {
     "name": "stdout",
     "output_type": "stream",
     "text": [
      "Enter the year :2003\n",
      "2003 is a not leap year.\n",
      "2004 is a leap year.\n"
     ]
    }
   ],
   "source": [
    "year = int(input(\"Enter the year :\"))\n",
    "leap_year = False\n",
    "for i in range(4):\n",
    "    if(year%4 == 0 and year%100 != 0) or (year % 400 == 0):\n",
    "        print(f\"{year} is a leap year.\")\n",
    "        break\n",
    "    else:\n",
    "        print(f\"{year} is a not leap year.\")\n",
    "    year += 1\n",
    "        \n"
   ]
  },
  {
   "cell_type": "code",
   "execution_count": 40,
   "id": "3484b447",
   "metadata": {},
   "outputs": [
    {
     "name": "stdout",
     "output_type": "stream",
     "text": [
      "Enter the number :5\n",
      "The square root of 5.0 is approximately 2.236068\n"
     ]
    }
   ],
   "source": [
    "# Create a Python program that calculates the square root of a number using a for loop.\n",
    "n = float(input(\"Enter the number :\"))\n",
    "sqrt_root = n/2\n",
    "ittaration = 10\n",
    "for i in range(ittaration):\n",
    "    sqrt_root = (sqrt_root + n / sqrt_root) / 2\n",
    "    \n",
    "print(f\"The square root of {n} is approximately {sqrt_root:.6f}\")"
   ]
  },
  {
   "cell_type": "code",
   "execution_count": 42,
   "id": "6463e297",
   "metadata": {},
   "outputs": [
    {
     "name": "stdout",
     "output_type": "stream",
     "text": [
      "Enter the 1st number :5\n",
      "Enter the 2nd number :2\n",
      "The GCD of the two numbers is:: 1\n",
      "The LCM of the two numbers is:: 10.0\n"
     ]
    }
   ],
   "source": [
    "# Write a Python program to find the LCM (Least Common Multiple) of two numbers using a for loop.\n",
    "num1 = int(input(\"Enter the 1st number :\"))\n",
    "num2 = int(input(\"Enter the 2nd number :\"))\n",
    "gcd = 0\n",
    "for i in range(1,min(num1,num2)+1):\n",
    "    if num1 % i == 0 and num2 % i == 0:\n",
    "        gcd = i\n",
    "print(\"The GCD of the two numbers is::\",gcd)\n",
    "\n",
    "lcm = (num1 * num2) / gcd\n",
    "print(\"The LCM of the two numbers is::\",lcm)"
   ]
  }
 ],
 "metadata": {
  "kernelspec": {
   "display_name": "Python 3 (ipykernel)",
   "language": "python",
   "name": "python3"
  },
  "language_info": {
   "codemirror_mode": {
    "name": "ipython",
    "version": 3
   },
   "file_extension": ".py",
   "mimetype": "text/x-python",
   "name": "python",
   "nbconvert_exporter": "python",
   "pygments_lexer": "ipython3",
   "version": "3.11.4"
  }
 },
 "nbformat": 4,
 "nbformat_minor": 5
}
